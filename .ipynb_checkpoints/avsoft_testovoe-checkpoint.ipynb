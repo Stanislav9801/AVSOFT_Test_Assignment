{
 "cells": [
  {
   "cell_type": "markdown",
   "metadata": {
    "id": "uVAegpCItSQw"
   },
   "source": [
    "# Тестовое задание от AVSOFT"
   ]
  },
  {
   "cell_type": "markdown",
   "metadata": {
    "id": "76R2tvgrtYi0"
   },
   "source": [
    "**Задача:**   \n",
    "Выявить зависимость числа `bugs` от значений признаков `repository_name`, `commit_hash`, `commit_date`, `commit_author` и `commit_message`.  \n",
    "Реализовать модель, на основе данного датасета, которая с максимальной точностью сможет предсказывать количество `bugs`."
   ]
  },
  {
   "cell_type": "markdown",
   "metadata": {
    "id": "2YjAo7NGtmVr"
   },
   "source": [
    "**Описание данных:**  \n",
    "В данных содержится 5 признаков и 1 целевая переменная.\n",
    "- `repository_name` - наименование репозитория\n",
    "- `commit_hash` - хэш коммита\n",
    "- `commit_date` - дата коммита\n",
    "- `commit_author` - автор коммита\n",
    "- `commit_message` - сообщение, отправленное вместе с коммитом\n",
    "- `bugs` - количество ошибок (целевой признак)"
   ]
  },
  {
   "cell_type": "markdown",
   "metadata": {
    "id": "HX1HXFib8x9q"
   },
   "source": [
    "# Импорт библиотек и настройка окружения"
   ]
  },
  {
   "cell_type": "code",
   "execution_count": null,
   "metadata": {
    "id": "H_gbI8_kakIb"
   },
   "outputs": [],
   "source": [
    "!pip install shap\n",
    "!pip install catboost\n",
    "!pip install pymorphy2\n",
    "\n",
    "import sys\n",
    "!{sys.executable} -m pip install spacy\n",
    "!{sys.executable} -m spacy download en\n",
    "\n",
    "import pandas as pd\n",
    "import numpy as np\n",
    "import warnings\n",
    "import shap\n",
    "import pymorphy2\n",
    "import spacy\n",
    "import string\n",
    "import nltk\n",
    "import re\n",
    "\n",
    "from nltk.stem import WordNetLemmatizer \n",
    "from sklearn.linear_model import ElasticNet, LinearRegression\n",
    "from sklearn.ensemble import RandomForestRegressor\n",
    "from sklearn.dummy import DummyRegressor\n",
    "from sklearn.pipeline import Pipeline\n",
    "from sklearn.model_selection import cross_val_score\n",
    "from sklearn.compose import ColumnTransformer\n",
    "from sklearn.preprocessing import OneHotEncoder, StandardScaler, OrdinalEncoder\n",
    "from catboost import CatBoostRegressor\n",
    "\n",
    "from matplotlib import pyplot as plt\n",
    "\n",
    "nltk.download('wordnet')\n",
    "nltk.download('punkt')\n",
    "nltk.download('stopwords')\n",
    "from nltk.corpus import stopwords\n",
    "\n",
    "pd.set_option('display.max_columns', None)\n",
    "warnings.simplefilter(\"ignore\", (UserWarning, FutureWarning))"
   ]
  },
  {
   "cell_type": "markdown",
   "metadata": {
    "id": "UZexuuht83Wh"
   },
   "source": [
    "# 1. Загрузка данных"
   ]
  },
  {
   "cell_type": "code",
   "execution_count": 52,
   "metadata": {
    "colab": {
     "base_uri": "https://localhost:8080/",
     "height": 0
    },
    "id": "zAHT010_a6zq",
    "outputId": "cfffa745-8bef-4dbd-c9b3-2502916bc449"
   },
   "outputs": [
    {
     "name": "stdout",
     "output_type": "stream",
     "text": [
      "<class 'pandas.core.frame.DataFrame'>\n",
      "RangeIndex: 319 entries, 0 to 318\n",
      "Data columns (total 6 columns):\n",
      " #   Column           Non-Null Count  Dtype \n",
      "---  ------           --------------  ----- \n",
      " 0   repository_name  319 non-null    object\n",
      " 1   commit_hash      319 non-null    object\n",
      " 2   commit_date      319 non-null    object\n",
      " 3   commit_author    319 non-null    object\n",
      " 4   commit_message   319 non-null    object\n",
      " 5   bugs             319 non-null    int64 \n",
      "dtypes: int64(1), object(5)\n",
      "memory usage: 15.1+ KB\n"
     ]
    },
    {
     "data": {
      "text/plain": [
       "None"
      ]
     },
     "metadata": {},
     "output_type": "display_data"
    },
    {
     "data": {
      "text/html": [
       "\n",
       "  <div id=\"df-b4c84ddb-1373-4599-b0a9-bfef73c5a1f9\">\n",
       "    <div class=\"colab-df-container\">\n",
       "      <div>\n",
       "<style scoped>\n",
       "    .dataframe tbody tr th:only-of-type {\n",
       "        vertical-align: middle;\n",
       "    }\n",
       "\n",
       "    .dataframe tbody tr th {\n",
       "        vertical-align: top;\n",
       "    }\n",
       "\n",
       "    .dataframe thead th {\n",
       "        text-align: right;\n",
       "    }\n",
       "</style>\n",
       "<table border=\"1\" class=\"dataframe\">\n",
       "  <thead>\n",
       "    <tr style=\"text-align: right;\">\n",
       "      <th></th>\n",
       "      <th>repository_name</th>\n",
       "      <th>commit_hash</th>\n",
       "      <th>commit_date</th>\n",
       "      <th>commit_author</th>\n",
       "      <th>commit_message</th>\n",
       "      <th>bugs</th>\n",
       "    </tr>\n",
       "  </thead>\n",
       "  <tbody>\n",
       "    <tr>\n",
       "      <th>0</th>\n",
       "      <td>mlm</td>\n",
       "      <td>b28abb42</td>\n",
       "      <td>2020-06-12T14:26:12</td>\n",
       "      <td>Victor</td>\n",
       "      <td>объяснения предсказаний с помощью lime</td>\n",
       "      <td>4</td>\n",
       "    </tr>\n",
       "    <tr>\n",
       "      <th>1</th>\n",
       "      <td>mlm</td>\n",
       "      <td>438b5c4d</td>\n",
       "      <td>2020-06-12T11:53:10</td>\n",
       "      <td>Victor</td>\n",
       "      <td>Поставил lime вместо eli5</td>\n",
       "      <td>3</td>\n",
       "    </tr>\n",
       "    <tr>\n",
       "      <th>2</th>\n",
       "      <td>mlm</td>\n",
       "      <td>8e6e4f31</td>\n",
       "      <td>2020-06-11T15:19:03</td>\n",
       "      <td>Victor</td>\n",
       "      <td>Скрипт для создния пакетов обновления</td>\n",
       "      <td>4</td>\n",
       "    </tr>\n",
       "    <tr>\n",
       "      <th>3</th>\n",
       "      <td>mlm</td>\n",
       "      <td>5e0956a6</td>\n",
       "      <td>2020-06-11T10:42:29</td>\n",
       "      <td>Victor</td>\n",
       "      <td>Сортировка весов по убыванию</td>\n",
       "      <td>3</td>\n",
       "    </tr>\n",
       "    <tr>\n",
       "      <th>4</th>\n",
       "      <td>mlm</td>\n",
       "      <td>b9f4b40c</td>\n",
       "      <td>2020-06-11T09:25:19</td>\n",
       "      <td>Victor</td>\n",
       "      <td>не надо конвертировать массив до операции по с...</td>\n",
       "      <td>7</td>\n",
       "    </tr>\n",
       "  </tbody>\n",
       "</table>\n",
       "</div>\n",
       "      <button class=\"colab-df-convert\" onclick=\"convertToInteractive('df-b4c84ddb-1373-4599-b0a9-bfef73c5a1f9')\"\n",
       "              title=\"Convert this dataframe to an interactive table.\"\n",
       "              style=\"display:none;\">\n",
       "        \n",
       "  <svg xmlns=\"http://www.w3.org/2000/svg\" height=\"24px\"viewBox=\"0 0 24 24\"\n",
       "       width=\"24px\">\n",
       "    <path d=\"M0 0h24v24H0V0z\" fill=\"none\"/>\n",
       "    <path d=\"M18.56 5.44l.94 2.06.94-2.06 2.06-.94-2.06-.94-.94-2.06-.94 2.06-2.06.94zm-11 1L8.5 8.5l.94-2.06 2.06-.94-2.06-.94L8.5 2.5l-.94 2.06-2.06.94zm10 10l.94 2.06.94-2.06 2.06-.94-2.06-.94-.94-2.06-.94 2.06-2.06.94z\"/><path d=\"M17.41 7.96l-1.37-1.37c-.4-.4-.92-.59-1.43-.59-.52 0-1.04.2-1.43.59L10.3 9.45l-7.72 7.72c-.78.78-.78 2.05 0 2.83L4 21.41c.39.39.9.59 1.41.59.51 0 1.02-.2 1.41-.59l7.78-7.78 2.81-2.81c.8-.78.8-2.07 0-2.86zM5.41 20L4 18.59l7.72-7.72 1.47 1.35L5.41 20z\"/>\n",
       "  </svg>\n",
       "      </button>\n",
       "      \n",
       "  <style>\n",
       "    .colab-df-container {\n",
       "      display:flex;\n",
       "      flex-wrap:wrap;\n",
       "      gap: 12px;\n",
       "    }\n",
       "\n",
       "    .colab-df-convert {\n",
       "      background-color: #E8F0FE;\n",
       "      border: none;\n",
       "      border-radius: 50%;\n",
       "      cursor: pointer;\n",
       "      display: none;\n",
       "      fill: #1967D2;\n",
       "      height: 32px;\n",
       "      padding: 0 0 0 0;\n",
       "      width: 32px;\n",
       "    }\n",
       "\n",
       "    .colab-df-convert:hover {\n",
       "      background-color: #E2EBFA;\n",
       "      box-shadow: 0px 1px 2px rgba(60, 64, 67, 0.3), 0px 1px 3px 1px rgba(60, 64, 67, 0.15);\n",
       "      fill: #174EA6;\n",
       "    }\n",
       "\n",
       "    [theme=dark] .colab-df-convert {\n",
       "      background-color: #3B4455;\n",
       "      fill: #D2E3FC;\n",
       "    }\n",
       "\n",
       "    [theme=dark] .colab-df-convert:hover {\n",
       "      background-color: #434B5C;\n",
       "      box-shadow: 0px 1px 3px 1px rgba(0, 0, 0, 0.15);\n",
       "      filter: drop-shadow(0px 1px 2px rgba(0, 0, 0, 0.3));\n",
       "      fill: #FFFFFF;\n",
       "    }\n",
       "  </style>\n",
       "\n",
       "      <script>\n",
       "        const buttonEl =\n",
       "          document.querySelector('#df-b4c84ddb-1373-4599-b0a9-bfef73c5a1f9 button.colab-df-convert');\n",
       "        buttonEl.style.display =\n",
       "          google.colab.kernel.accessAllowed ? 'block' : 'none';\n",
       "\n",
       "        async function convertToInteractive(key) {\n",
       "          const element = document.querySelector('#df-b4c84ddb-1373-4599-b0a9-bfef73c5a1f9');\n",
       "          const dataTable =\n",
       "            await google.colab.kernel.invokeFunction('convertToInteractive',\n",
       "                                                     [key], {});\n",
       "          if (!dataTable) return;\n",
       "\n",
       "          const docLinkHtml = 'Like what you see? Visit the ' +\n",
       "            '<a target=\"_blank\" href=https://colab.research.google.com/notebooks/data_table.ipynb>data table notebook</a>'\n",
       "            + ' to learn more about interactive tables.';\n",
       "          element.innerHTML = '';\n",
       "          dataTable['output_type'] = 'display_data';\n",
       "          await google.colab.output.renderOutput(dataTable, element);\n",
       "          const docLink = document.createElement('div');\n",
       "          docLink.innerHTML = docLinkHtml;\n",
       "          element.appendChild(docLink);\n",
       "        }\n",
       "      </script>\n",
       "    </div>\n",
       "  </div>\n",
       "  "
      ],
      "text/plain": [
       "  repository_name commit_hash          commit_date commit_author  \\\n",
       "0             mlm    b28abb42  2020-06-12T14:26:12        Victor   \n",
       "1             mlm    438b5c4d  2020-06-12T11:53:10        Victor   \n",
       "2             mlm    8e6e4f31  2020-06-11T15:19:03        Victor   \n",
       "3             mlm    5e0956a6  2020-06-11T10:42:29        Victor   \n",
       "4             mlm    b9f4b40c  2020-06-11T09:25:19        Victor   \n",
       "\n",
       "                                      commit_message  bugs  \n",
       "0             объяснения предсказаний с помощью lime     4  \n",
       "1                          Поставил lime вместо eli5     3  \n",
       "2              Скрипт для создния пакетов обновления     4  \n",
       "3                       Сортировка весов по убыванию     3  \n",
       "4  не надо конвертировать массив до операции по с...     7  "
      ]
     },
     "metadata": {},
     "output_type": "display_data"
    }
   ],
   "source": [
    "# Загрузим данные и сохраним их в переменной \"data\"\n",
    "data = pd.read_csv('/content/drive/MyDrive/testovoe_avsoft/avsoft_data.csv')\n",
    "\n",
    "# Выведем информацию о данных на экран\n",
    "display(data.info())\n",
    "display(data.head())"
   ]
  },
  {
   "cell_type": "code",
   "execution_count": 53,
   "metadata": {
    "colab": {
     "base_uri": "https://localhost:8080/"
    },
    "id": "3-gVOzBGbClf",
    "outputId": "9d85508d-4c04-4534-c0d1-3ccb8df3657f"
   },
   "outputs": [
    {
     "name": "stdout",
     "output_type": "stream",
     "text": [
      "repository_name\n",
      "6\n",
      "['mlm' 'standard' 'agent' 'conductor' 'dockers' 'sensor']\n",
      "----------\n",
      "commit_hash\n",
      "319\n",
      "----------\n",
      "commit_date\n",
      "318\n",
      "----------\n",
      "commit_author\n",
      "10\n",
      "['Victor' 'Peggy' 'Wendy' 'Trudy' 'Mallory' 'Eve' 'Dabe' 'Carol' 'Bob'\n",
      " 'Alice']\n",
      "----------\n",
      "commit_message\n",
      "309\n",
      "----------\n"
     ]
    }
   ],
   "source": [
    "# Посмотрм на уникальные значения столбцов и на их количество\n",
    "for col in data.select_dtypes('object').columns:\n",
    "  print(col)\n",
    "  print(data[col].nunique())\n",
    "  if data[col].nunique() <= 10:\n",
    "      print(data[col].unique())\n",
    "  print('-'*10)"
   ]
  },
  {
   "cell_type": "markdown",
   "metadata": {
    "id": "_6xGRaWBds5t"
   },
   "source": [
    "# 2. Исследовательский анализ данных"
   ]
  },
  {
   "cell_type": "code",
   "execution_count": 54,
   "metadata": {
    "id": "4kmPULKvkLcI"
   },
   "outputs": [],
   "source": [
    "# Сделаем копию датафрейма\n",
    "data_copy = data.copy()\n",
    "\n",
    "# Создадим функцию, которая будет разбивать текст на токены\n",
    "def tokenize(text):\n",
    "  list_of_tokens = list()\n",
    "\n",
    "  for token in nltk.word_tokenize(text):\n",
    "    if (token in string.punctuation) or (token in string.printable): \n",
    "      continue\n",
    "    list_of_tokens.append(token)\n",
    "  return list_of_tokens"
   ]
  },
  {
   "cell_type": "markdown",
   "metadata": {
    "id": "AWgWe4p2d0FR"
   },
   "source": [
    "### Признак `repository_name`"
   ]
  },
  {
   "cell_type": "code",
   "execution_count": null,
   "metadata": {
    "colab": {
     "base_uri": "https://localhost:8080/"
    },
    "id": "8RJw-JQWcXFc",
    "outputId": "287d0d60-b856-4fca-beec-16a4b07ac4af"
   },
   "outputs": [
    {
     "data": {
      "text/plain": [
       "conductor    114\n",
       "sensor       102\n",
       "mlm           41\n",
       "standard      29\n",
       "dockers       19\n",
       "agent         14\n",
       "Name: repository_name, dtype: int64"
      ]
     },
     "execution_count": 6,
     "metadata": {},
     "output_type": "execute_result"
    }
   ],
   "source": [
    "# Посотрим, сколько раз в данных встречается каждое из наименований репозиториев\n",
    "data['repository_name'].value_counts()"
   ]
  },
  {
   "cell_type": "code",
   "execution_count": null,
   "metadata": {
    "colab": {
     "base_uri": "https://localhost:8080/",
     "height": 295
    },
    "id": "aztsO7qJd-bc",
    "outputId": "728e4d79-099a-49c3-cdeb-c5adf8e9d0ad"
   },
   "outputs": [
    {
     "data": {
      "image/png": "[encoded data removed]",
      "text/plain": [
       "<Figure size 432x288 with 1 Axes>"
      ]
     },
     "metadata": {
      "needs_background": "light"
     },
     "output_type": "display_data"
    }
   ],
   "source": [
    "data.groupby('repository_name')['bugs'].mean().sort_values().plot.barh(grid=True)\n",
    "plt.title('Среднее количество ошибок в зависимости от репозитория')\n",
    "plt.xlabel('Среднее количество ошибок');"
   ]
  },
  {
   "cell_type": "markdown",
   "metadata": {
    "id": "L1bOLgdn3Heu"
   },
   "source": [
    "Похоже, что в репозитории 'mlm' в среднем встречалосьбольше всего багов."
   ]
  },
  {
   "cell_type": "markdown",
   "metadata": {
    "id": "hoIMaUGg3Qq-"
   },
   "source": [
    "### Признак `commit_date`"
   ]
  },
  {
   "cell_type": "code",
   "execution_count": null,
   "metadata": {
    "colab": {
     "base_uri": "https://localhost:8080/"
    },
    "id": "kE_ZYD9E3RzK",
    "outputId": "bd6a0642-6eb0-4f98-a5cc-58442a31b006"
   },
   "outputs": [
    {
     "data": {
      "text/plain": [
       "count                     319\n",
       "unique                    318\n",
       "top       2020-06-10 10:17:03\n",
       "freq                        2\n",
       "first     2020-03-08 14:26:16\n",
       "last      2020-06-12 14:26:12\n",
       "Name: commit_date, dtype: object"
      ]
     },
     "execution_count": 8,
     "metadata": {},
     "output_type": "execute_result"
    }
   ],
   "source": [
    "# Преобразуем столбце \"commit_date\" к формату \"datetime\"\n",
    "data_copy['commit_date'] = pd.to_datetime(data['commit_date'])\n",
    "# Извелечем месяц коммита из столбца \"commit_date\" и сохраним в столбец \"commit_month\"\n",
    "data_copy['commit_month'] = pd.DatetimeIndex(data_copy['commit_date']).month\n",
    "# Посмотрим на описание столбца \"commit_date\"\n",
    "data_copy['commit_date'].describe()"
   ]
  },
  {
   "cell_type": "markdown",
   "metadata": {
    "id": "yStY4tP33v1o"
   },
   "source": [
    "Коммиты были сделаны в период с 8 марта 2020 года по 12 июня 2020 года. Период - 3 месяца."
   ]
  },
  {
   "cell_type": "code",
   "execution_count": null,
   "metadata": {
    "colab": {
     "base_uri": "https://localhost:8080/",
     "height": 295
    },
    "id": "zY-Frspx3_iV",
    "outputId": "d7aea3ca-9a33-4428-e319-5c77ffcb686a"
   },
   "outputs": [
    {
     "data": {
      "image/png": "[encoded data removed]",
      "text/plain": [
       "<Figure size 432x288 with 1 Axes>"
      ]
     },
     "metadata": {
      "needs_background": "light"
     },
     "output_type": "display_data"
    }
   ],
   "source": [
    "# Посмотрим на зависимость среднего количества багов от месяца, когда был сделан коммит\n",
    "data_copy.groupby('commit_month')['bugs'].mean().sort_values().plot.barh(grid=True)\n",
    "plt.title('Среднее количество ошибок в зависимости от месяца коммита')\n",
    "plt.xlabel('Среднее количество ошибок');"
   ]
  },
  {
   "cell_type": "markdown",
   "metadata": {
    "id": "rJ--KadG5YM_"
   },
   "source": [
    "Значительно разницы в среднем количестве багов в зависимости от месяца коммита не наблюдается."
   ]
  },
  {
   "cell_type": "markdown",
   "metadata": {
    "id": "PK9eQWYU3Sgh"
   },
   "source": [
    "### Признак `commit_author`"
   ]
  },
  {
   "cell_type": "code",
   "execution_count": null,
   "metadata": {
    "colab": {
     "base_uri": "https://localhost:8080/"
    },
    "id": "aj2H8m2BrXph",
    "outputId": "956f6b5e-1893-49ab-8807-f85bb01c8385"
   },
   "outputs": [
    {
     "data": {
      "text/plain": [
       "Victor     134\n",
       "Mallory     67\n",
       "Wendy       48\n",
       "Dabe        42\n",
       "Trudy        9\n",
       "Eve          9\n",
       "Carol        4\n",
       "Peggy        2\n",
       "Bob          2\n",
       "Alice        2\n",
       "Name: commit_author, dtype: int64"
      ]
     },
     "execution_count": 10,
     "metadata": {},
     "output_type": "execute_result"
    }
   ],
   "source": [
    "# Посмотрим, сколько раз каждый из авторов делал коммиты\n",
    "data['commit_author'].value_counts()"
   ]
  },
  {
   "cell_type": "markdown",
   "metadata": {
    "id": "qbWYNhz8n5rY"
   },
   "source": [
    "Посмотрим на среднее количество багов, которое возникало у каждого автора."
   ]
  },
  {
   "cell_type": "code",
   "execution_count": null,
   "metadata": {
    "colab": {
     "base_uri": "https://localhost:8080/",
     "height": 350
    },
    "id": "bIxYzfIO3TLJ",
    "outputId": "8486e234-37c9-4256-fcb4-46b0284f0105"
   },
   "outputs": [
    {
     "data": {
      "image/png": "[encoded data removed]",
      "text/plain": [
       "<Figure size 1080x360 with 2 Axes>"
      ]
     },
     "metadata": {
      "needs_background": "light"
     },
     "output_type": "display_data"
    }
   ],
   "source": [
    "fig, ax = plt.subplots(1, 2, figsize=(15, 5))\n",
    "\n",
    "data.groupby('commit_author')['bugs'].mean().sort_values().plot.barh(grid=True, ax=ax[0]);\n",
    "ax[0].set_title('Среднее количество ошибок в зависимости от автора коммита')\n",
    "ax[0].set_xlabel('Среднее количество ошибок');\n",
    "\n",
    "data.groupby('commit_author')['bugs'].median().sort_values().plot.barh(grid=True, ax=ax[1]);\n",
    "ax[1].set_title('Медианное количество ошибок в зависимости от автора коммита')\n",
    "ax[1].set_xlabel('Медианное количество ошибок');"
   ]
  },
  {
   "cell_type": "markdown",
   "metadata": {
    "id": "5vUMIDTA6kvw"
   },
   "source": [
    "Можно заметить, что есть сотрудники, у которых в среднем багов больше, нежели у другиx."
   ]
  },
  {
   "cell_type": "markdown",
   "metadata": {
    "id": "ZbmkeEQ35Ejf"
   },
   "source": [
    "Посмотрим, какие сотрудники делали коммиты в те или иные репозитории."
   ]
  },
  {
   "cell_type": "code",
   "execution_count": null,
   "metadata": {
    "colab": {
     "base_uri": "https://localhost:8080/"
    },
    "id": "vKpmyJ3O5IEf",
    "outputId": "cb37642b-7224-4062-ec4e-bf6d0920c0f9"
   },
   "outputs": [
    {
     "data": {
      "text/plain": [
       "repository_name  commit_author\n",
       "agent            Victor           14\n",
       "conductor        Mallory          36\n",
       "                 Dabe             35\n",
       "                 Victor           18\n",
       "                 Wendy            16\n",
       "                 Trudy             6\n",
       "                 Eve               3\n",
       "dockers          Wendy             7\n",
       "                 Carol             4\n",
       "                 Mallory           3\n",
       "                 Victor            3\n",
       "                 Bob               2\n",
       "mlm              Victor           39\n",
       "                 Peggy             2\n",
       "sensor           Victor           47\n",
       "                 Mallory          28\n",
       "                 Wendy             9\n",
       "                 Dabe              7\n",
       "                 Eve               6\n",
       "                 Trudy             3\n",
       "                 Alice             2\n",
       "standard         Wendy            16\n",
       "                 Victor           13\n",
       "Name: commit_author, dtype: int64"
      ]
     },
     "execution_count": 12,
     "metadata": {},
     "output_type": "execute_result"
    }
   ],
   "source": [
    "data.groupby('repository_name')['commit_author'].value_counts()"
   ]
  },
  {
   "cell_type": "markdown",
   "metadata": {
    "id": "eAoEbzZes26q"
   },
   "source": [
    "Посмотрим также, в какое количество репозиториев сотрудники делали коммиты."
   ]
  },
  {
   "cell_type": "code",
   "execution_count": null,
   "metadata": {
    "colab": {
     "base_uri": "https://localhost:8080/",
     "height": 394
    },
    "id": "qG_ul_cZsSRb",
    "outputId": "7b92058f-3b26-4fd2-e400-4191b61fa7e8"
   },
   "outputs": [
    {
     "data": {
      "text/html": [
       "\n",
       "  <div id=\"df-480d2d32-a68d-4b25-8cf0-f79da622e27a\">\n",
       "    <div class=\"colab-df-container\">\n",
       "      <div>\n",
       "<style scoped>\n",
       "    .dataframe tbody tr th:only-of-type {\n",
       "        vertical-align: middle;\n",
       "    }\n",
       "\n",
       "    .dataframe tbody tr th {\n",
       "        vertical-align: top;\n",
       "    }\n",
       "\n",
       "    .dataframe thead th {\n",
       "        text-align: right;\n",
       "    }\n",
       "</style>\n",
       "<table border=\"1\" class=\"dataframe\">\n",
       "  <thead>\n",
       "    <tr style=\"text-align: right;\">\n",
       "      <th></th>\n",
       "      <th>num_unique_repos</th>\n",
       "      <th>total_commits</th>\n",
       "    </tr>\n",
       "    <tr>\n",
       "      <th>commit_author</th>\n",
       "      <th></th>\n",
       "      <th></th>\n",
       "    </tr>\n",
       "  </thead>\n",
       "  <tbody>\n",
       "    <tr>\n",
       "      <th>Victor</th>\n",
       "      <td>6</td>\n",
       "      <td>134</td>\n",
       "    </tr>\n",
       "    <tr>\n",
       "      <th>Wendy</th>\n",
       "      <td>4</td>\n",
       "      <td>48</td>\n",
       "    </tr>\n",
       "    <tr>\n",
       "      <th>Mallory</th>\n",
       "      <td>3</td>\n",
       "      <td>67</td>\n",
       "    </tr>\n",
       "    <tr>\n",
       "      <th>Dabe</th>\n",
       "      <td>2</td>\n",
       "      <td>42</td>\n",
       "    </tr>\n",
       "    <tr>\n",
       "      <th>Eve</th>\n",
       "      <td>2</td>\n",
       "      <td>9</td>\n",
       "    </tr>\n",
       "    <tr>\n",
       "      <th>Trudy</th>\n",
       "      <td>2</td>\n",
       "      <td>9</td>\n",
       "    </tr>\n",
       "    <tr>\n",
       "      <th>Alice</th>\n",
       "      <td>1</td>\n",
       "      <td>2</td>\n",
       "    </tr>\n",
       "    <tr>\n",
       "      <th>Bob</th>\n",
       "      <td>1</td>\n",
       "      <td>2</td>\n",
       "    </tr>\n",
       "    <tr>\n",
       "      <th>Carol</th>\n",
       "      <td>1</td>\n",
       "      <td>4</td>\n",
       "    </tr>\n",
       "    <tr>\n",
       "      <th>Peggy</th>\n",
       "      <td>1</td>\n",
       "      <td>2</td>\n",
       "    </tr>\n",
       "  </tbody>\n",
       "</table>\n",
       "</div>\n",
       "      <button class=\"colab-df-convert\" onclick=\"convertToInteractive('df-480d2d32-a68d-4b25-8cf0-f79da622e27a')\"\n",
       "              title=\"Convert this dataframe to an interactive table.\"\n",
       "              style=\"display:none;\">\n",
       "        \n",
       "  <svg xmlns=\"http://www.w3.org/2000/svg\" height=\"24px\"viewBox=\"0 0 24 24\"\n",
       "       width=\"24px\">\n",
       "    <path d=\"M0 0h24v24H0V0z\" fill=\"none\"/>\n",
       "    <path d=\"M18.56 5.44l.94 2.06.94-2.06 2.06-.94-2.06-.94-.94-2.06-.94 2.06-2.06.94zm-11 1L8.5 8.5l.94-2.06 2.06-.94-2.06-.94L8.5 2.5l-.94 2.06-2.06.94zm10 10l.94 2.06.94-2.06 2.06-.94-2.06-.94-.94-2.06-.94 2.06-2.06.94z\"/><path d=\"M17.41 7.96l-1.37-1.37c-.4-.4-.92-.59-1.43-.59-.52 0-1.04.2-1.43.59L10.3 9.45l-7.72 7.72c-.78.78-.78 2.05 0 2.83L4 21.41c.39.39.9.59 1.41.59.51 0 1.02-.2 1.41-.59l7.78-7.78 2.81-2.81c.8-.78.8-2.07 0-2.86zM5.41 20L4 18.59l7.72-7.72 1.47 1.35L5.41 20z\"/>\n",
       "  </svg>\n",
       "      </button>\n",
       "      \n",
       "  <style>\n",
       "    .colab-df-container {\n",
       "      display:flex;\n",
       "      flex-wrap:wrap;\n",
       "      gap: 12px;\n",
       "    }\n",
       "\n",
       "    .colab-df-convert {\n",
       "      background-color: #E8F0FE;\n",
       "      border: none;\n",
       "      border-radius: 50%;\n",
       "      cursor: pointer;\n",
       "      display: none;\n",
       "      fill: #1967D2;\n",
       "      height: 32px;\n",
       "      padding: 0 0 0 0;\n",
       "      width: 32px;\n",
       "    }\n",
       "\n",
       "    .colab-df-convert:hover {\n",
       "      background-color: #E2EBFA;\n",
       "      box-shadow: 0px 1px 2px rgba(60, 64, 67, 0.3), 0px 1px 3px 1px rgba(60, 64, 67, 0.15);\n",
       "      fill: #174EA6;\n",
       "    }\n",
       "\n",
       "    [theme=dark] .colab-df-convert {\n",
       "      background-color: #3B4455;\n",
       "      fill: #D2E3FC;\n",
       "    }\n",
       "\n",
       "    [theme=dark] .colab-df-convert:hover {\n",
       "      background-color: #434B5C;\n",
       "      box-shadow: 0px 1px 3px 1px rgba(0, 0, 0, 0.15);\n",
       "      filter: drop-shadow(0px 1px 2px rgba(0, 0, 0, 0.3));\n",
       "      fill: #FFFFFF;\n",
       "    }\n",
       "  </style>\n",
       "\n",
       "      <script>\n",
       "        const buttonEl =\n",
       "          document.querySelector('#df-480d2d32-a68d-4b25-8cf0-f79da622e27a button.colab-df-convert');\n",
       "        buttonEl.style.display =\n",
       "          google.colab.kernel.accessAllowed ? 'block' : 'none';\n",
       "\n",
       "        async function convertToInteractive(key) {\n",
       "          const element = document.querySelector('#df-480d2d32-a68d-4b25-8cf0-f79da622e27a');\n",
       "          const dataTable =\n",
       "            await google.colab.kernel.invokeFunction('convertToInteractive',\n",
       "                                                     [key], {});\n",
       "          if (!dataTable) return;\n",
       "\n",
       "          const docLinkHtml = 'Like what you see? Visit the ' +\n",
       "            '<a target=\"_blank\" href=https://colab.research.google.com/notebooks/data_table.ipynb>data table notebook</a>'\n",
       "            + ' to learn more about interactive tables.';\n",
       "          element.innerHTML = '';\n",
       "          dataTable['output_type'] = 'display_data';\n",
       "          await google.colab.output.renderOutput(dataTable, element);\n",
       "          const docLink = document.createElement('div');\n",
       "          docLink.innerHTML = docLinkHtml;\n",
       "          element.appendChild(docLink);\n",
       "        }\n",
       "      </script>\n",
       "    </div>\n",
       "  </div>\n",
       "  "
      ],
      "text/plain": [
       "               num_unique_repos  total_commits\n",
       "commit_author                                 \n",
       "Victor                        6            134\n",
       "Wendy                         4             48\n",
       "Mallory                       3             67\n",
       "Dabe                          2             42\n",
       "Eve                           2              9\n",
       "Trudy                         2              9\n",
       "Alice                         1              2\n",
       "Bob                           1              2\n",
       "Carol                         1              4\n",
       "Peggy                         1              2"
      ]
     },
     "execution_count": 13,
     "metadata": {},
     "output_type": "execute_result"
    }
   ],
   "source": [
    "data.groupby('commit_author')['repository_name'].agg([lambda x: x.nunique(), lambda x: x.count()])\\\n",
    ".rename(columns={'<lambda_0>': 'num_unique_repos', '<lambda_1>': 'total_commits'})\\\n",
    ".sort_values(by='num_unique_repos', ascending=False)"
   ]
  },
  {
   "cell_type": "markdown",
   "metadata": {
    "id": "Y4RpwBZ0oN0i"
   },
   "source": [
    "Среди сотрудников есть те, кто делал коммитов значительно больше, нежели другие."
   ]
  },
  {
   "cell_type": "markdown",
   "metadata": {
    "id": "sJ18syvn3SkS"
   },
   "source": [
    "### Признак `bugs`"
   ]
  },
  {
   "cell_type": "code",
   "execution_count": null,
   "metadata": {
    "colab": {
     "base_uri": "https://localhost:8080/"
    },
    "id": "maBNXccg3Tjr",
    "outputId": "29ebc510-9f15-4847-f15f-92ee6a7bc18e"
   },
   "outputs": [
    {
     "data": {
      "text/plain": [
       "count    319.000000\n",
       "mean       2.996865\n",
       "std        1.855636\n",
       "min        0.000000\n",
       "25%        2.000000\n",
       "50%        3.000000\n",
       "75%        4.000000\n",
       "max       12.000000\n",
       "Name: bugs, dtype: float64"
      ]
     },
     "execution_count": 14,
     "metadata": {},
     "output_type": "execute_result"
    }
   ],
   "source": [
    "# Посмотрим на описание столбца \"bugs\"\n",
    "data['bugs'].describe()"
   ]
  },
  {
   "cell_type": "code",
   "execution_count": null,
   "metadata": {
    "colab": {
     "base_uri": "https://localhost:8080/",
     "height": 336
    },
    "id": "Ia-NzGQu69em",
    "outputId": "f4d5c4d1-ff85-4925-ac19-9e5ab5829045"
   },
   "outputs": [
    {
     "data": {
      "image/png": "[encoded data removed]",
      "text/plain": [
       "<Figure size 1080x360 with 2 Axes>"
      ]
     },
     "metadata": {
      "needs_background": "light"
     },
     "output_type": "display_data"
    }
   ],
   "source": [
    "fig, ax = plt.subplots(1, 2, figsize=(15, 5))\n",
    "\n",
    "ax[0].hist(data['bugs'], bins=12)\n",
    "ax[0].grid();\n",
    "ax[0].set_title('Распределение количества багов')\n",
    "\n",
    "ax[1].boxplot(data['bugs'], vert=False)\n",
    "ax[1].grid();\n",
    "ax[1].set_title('Диаграмма размаха количества багов');"
   ]
  },
  {
   "cell_type": "markdown",
   "metadata": {
    "id": "BWizX2wC736y"
   },
   "source": [
    "Среднее количество багов за весь период равняется 3-м. Максимальное количество багов, появившееся при коммите - 12."
   ]
  },
  {
   "cell_type": "markdown",
   "metadata": {
    "id": "cR5A5oVv-BW_"
   },
   "source": [
    "### Признак `commit_message`"
   ]
  },
  {
   "cell_type": "code",
   "execution_count": null,
   "metadata": {
    "colab": {
     "base_uri": "https://localhost:8080/"
    },
    "id": "3-YwzlJZ_OHr",
    "outputId": "59a79fde-14a1-42be-c178-70eba6e446a8"
   },
   "outputs": [
    {
     "data": {
      "text/plain": [
       "314                                     setting hostname\n",
       "267                                         noniterative\n",
       "15     тип и всякие статичные данные пусть лежат в да...\n",
       "65                                 Fix update_check_list\n",
       "214                                            fix build\n",
       "Name: commit_message, dtype: object"
      ]
     },
     "execution_count": 16,
     "metadata": {},
     "output_type": "execute_result"
    }
   ],
   "source": [
    "# Посмотрим на произвольные 5 строк столбца \"commit_message\"\n",
    "data['commit_message'].sample(5, random_state=0)"
   ]
  },
  {
   "cell_type": "markdown",
   "metadata": {
    "id": "aQ1NhVhd_RjC"
   },
   "source": [
    "Сообщения состоят из русских и английских слов."
   ]
  },
  {
   "cell_type": "markdown",
   "metadata": {
    "id": "BCA0G6Wd_a52"
   },
   "source": [
    "Посмотрим, как распределена длина сообщений."
   ]
  },
  {
   "cell_type": "code",
   "execution_count": null,
   "metadata": {
    "id": "U9QL2YgfCkAN"
   },
   "outputs": [],
   "source": [
    "# Создадим столбец \"commit_message_length\" и сохраним в него длину сообщения\n",
    "data_copy['commit_message_length'] = data_copy['commit_message'].apply(lambda x: len(tokenize(x)))"
   ]
  },
  {
   "cell_type": "code",
   "execution_count": null,
   "metadata": {
    "colab": {
     "base_uri": "https://localhost:8080/",
     "height": 295
    },
    "id": "jyMuOLS6-B-3",
    "outputId": "bfd8d7bb-1db3-470b-fe4d-32c701fc57e5"
   },
   "outputs": [
    {
     "data": {
      "image/png": "[encoded data removed]",
      "text/plain": [
       "<Figure size 432x288 with 1 Axes>"
      ]
     },
     "metadata": {
      "needs_background": "light"
     },
     "output_type": "display_data"
    }
   ],
   "source": [
    "data_copy['commit_message_length'].value_counts().plot.barh()\n",
    "plt.ylabel(\"Длина сообщений\")\n",
    "plt.xlabel(\"Количество сообщений\")\n",
    "plt.title('Сколько сообщений различной длины содержится в данных');"
   ]
  },
  {
   "cell_type": "markdown",
   "metadata": {
    "id": "ThMUUHEh_fcs"
   },
   "source": [
    "Большинство сообщений короткие - в основном длина составляет примерно от 2-х до 5-и слов.  \n",
    "Возможно, полезно будет создать такой признак, как \"длина сообщения\""
   ]
  },
  {
   "cell_type": "code",
   "execution_count": null,
   "metadata": {
    "colab": {
     "base_uri": "https://localhost:8080/",
     "height": 295
    },
    "id": "uiZgvLo5AtrO",
    "outputId": "3186ed24-db77-48d3-c264-24ed6114af30"
   },
   "outputs": [
    {
     "data": {
      "image/png": "[encoded data removed]",
      "text/plain": [
       "<Figure size 432x288 with 1 Axes>"
      ]
     },
     "metadata": {
      "needs_background": "light"
     },
     "output_type": "display_data"
    }
   ],
   "source": [
    "data_copy.groupby('commit_message_length')['bugs'].mean().sort_values().plot.barh(grid=True);\n",
    "plt.ylabel(\"Длина сообщений\")\n",
    "plt.xlabel(\"Количество багов\")\n",
    "plt.title('Количество багов в зависимости от длины сообщения');"
   ]
  },
  {
   "cell_type": "markdown",
   "metadata": {
    "id": "T5WcgpiqCJVF"
   },
   "source": [
    "Похоже, что наибольшее количество багов в основном наблюдалось у коммитов с более динными сообщениями."
   ]
  },
  {
   "cell_type": "markdown",
   "metadata": {
    "id": "SlV_nVyV15Dt"
   },
   "source": [
    "Посмотрим на график разброса"
   ]
  },
  {
   "cell_type": "code",
   "execution_count": null,
   "metadata": {
    "colab": {
     "base_uri": "https://localhost:8080/",
     "height": 296
    },
    "id": "KmAvmsIu19Jr",
    "outputId": "7eec8f4b-6edd-4d6a-f9fc-689174dcbbff"
   },
   "outputs": [
    {
     "data": {
      "image/png": "[encoded data removed]",
      "text/plain": [
       "<Figure size 432x288 with 1 Axes>"
      ]
     },
     "metadata": {
      "needs_background": "light"
     },
     "output_type": "display_data"
    }
   ],
   "source": [
    "plt.scatter(data_copy['commit_message_length'], data_copy['bugs']);\n",
    "plt.title('Зависимость багов от длины сообщения')\n",
    "plt.xlabel('message_length')\n",
    "plt.ylabel('bugs');"
   ]
  },
  {
   "cell_type": "code",
   "execution_count": null,
   "metadata": {
    "colab": {
     "base_uri": "https://localhost:8080/"
    },
    "id": "BvQZXxPf2O0c",
    "outputId": "2a142f7e-b36b-460d-f154-7e114ade6a37"
   },
   "outputs": [
    {
     "name": "stdout",
     "output_type": "stream",
     "text": [
      "Коэффициент корреляции длины сообщения с количеством багов: 0.7631914930856488\n"
     ]
    }
   ],
   "source": [
    "corr = data_copy['commit_message_length'].corr(data_copy['bugs'])\n",
    "print('Коэффициент корреляции длины сообщения с количеством багов:', corr)"
   ]
  },
  {
   "cell_type": "markdown",
   "metadata": {
    "id": "Z_0XT0qCxHzk"
   },
   "source": [
    "У длины сообщения и количества багов присутствует линейная зависимость средней силы."
   ]
  },
  {
   "cell_type": "markdown",
   "metadata": {
    "id": "Hx4WgP2Sn2Xs"
   },
   "source": [
    "Посмотрим, какой длины сообщения в среднем писали сотрудники и сколько при этом совершали ошибок."
   ]
  },
  {
   "cell_type": "code",
   "execution_count": null,
   "metadata": {
    "colab": {
     "base_uri": "https://localhost:8080/",
     "height": 425
    },
    "id": "Sle9Lv4knzsm",
    "outputId": "51339fe9-30ce-426f-f87c-274640d3c8cb"
   },
   "outputs": [
    {
     "data": {
      "text/html": [
       "\n",
       "  <div id=\"df-338a9314-caa6-4ad6-ad93-49514b0ad1ff\">\n",
       "    <div class=\"colab-df-container\">\n",
       "      <div>\n",
       "<style scoped>\n",
       "    .dataframe tbody tr th:only-of-type {\n",
       "        vertical-align: middle;\n",
       "    }\n",
       "\n",
       "    .dataframe tbody tr th {\n",
       "        vertical-align: top;\n",
       "    }\n",
       "\n",
       "    .dataframe thead tr th {\n",
       "        text-align: left;\n",
       "    }\n",
       "\n",
       "    .dataframe thead tr:last-of-type th {\n",
       "        text-align: right;\n",
       "    }\n",
       "</style>\n",
       "<table border=\"1\" class=\"dataframe\">\n",
       "  <thead>\n",
       "    <tr>\n",
       "      <th></th>\n",
       "      <th>commit_message_length</th>\n",
       "      <th>bugs</th>\n",
       "    </tr>\n",
       "    <tr>\n",
       "      <th></th>\n",
       "      <th>mean</th>\n",
       "      <th>mean</th>\n",
       "    </tr>\n",
       "    <tr>\n",
       "      <th>commit_author</th>\n",
       "      <th></th>\n",
       "      <th></th>\n",
       "    </tr>\n",
       "  </thead>\n",
       "  <tbody>\n",
       "    <tr>\n",
       "      <th>Eve</th>\n",
       "      <td>5.666667</td>\n",
       "      <td>3.555556</td>\n",
       "    </tr>\n",
       "    <tr>\n",
       "      <th>Peggy</th>\n",
       "      <td>5.000000</td>\n",
       "      <td>3.500000</td>\n",
       "    </tr>\n",
       "    <tr>\n",
       "      <th>Victor</th>\n",
       "      <td>4.261194</td>\n",
       "      <td>3.462687</td>\n",
       "    </tr>\n",
       "    <tr>\n",
       "      <th>Mallory</th>\n",
       "      <td>4.791045</td>\n",
       "      <td>3.179104</td>\n",
       "    </tr>\n",
       "    <tr>\n",
       "      <th>Bob</th>\n",
       "      <td>4.500000</td>\n",
       "      <td>2.500000</td>\n",
       "    </tr>\n",
       "    <tr>\n",
       "      <th>Dabe</th>\n",
       "      <td>2.952381</td>\n",
       "      <td>2.404762</td>\n",
       "    </tr>\n",
       "    <tr>\n",
       "      <th>Wendy</th>\n",
       "      <td>3.583333</td>\n",
       "      <td>2.250000</td>\n",
       "    </tr>\n",
       "    <tr>\n",
       "      <th>Trudy</th>\n",
       "      <td>2.888889</td>\n",
       "      <td>2.111111</td>\n",
       "    </tr>\n",
       "    <tr>\n",
       "      <th>Carol</th>\n",
       "      <td>8.750000</td>\n",
       "      <td>1.500000</td>\n",
       "    </tr>\n",
       "    <tr>\n",
       "      <th>Alice</th>\n",
       "      <td>2.500000</td>\n",
       "      <td>0.500000</td>\n",
       "    </tr>\n",
       "  </tbody>\n",
       "</table>\n",
       "</div>\n",
       "      <button class=\"colab-df-convert\" onclick=\"convertToInteractive('df-338a9314-caa6-4ad6-ad93-49514b0ad1ff')\"\n",
       "              title=\"Convert this dataframe to an interactive table.\"\n",
       "              style=\"display:none;\">\n",
       "        \n",
       "  <svg xmlns=\"http://www.w3.org/2000/svg\" height=\"24px\"viewBox=\"0 0 24 24\"\n",
       "       width=\"24px\">\n",
       "    <path d=\"M0 0h24v24H0V0z\" fill=\"none\"/>\n",
       "    <path d=\"M18.56 5.44l.94 2.06.94-2.06 2.06-.94-2.06-.94-.94-2.06-.94 2.06-2.06.94zm-11 1L8.5 8.5l.94-2.06 2.06-.94-2.06-.94L8.5 2.5l-.94 2.06-2.06.94zm10 10l.94 2.06.94-2.06 2.06-.94-2.06-.94-.94-2.06-.94 2.06-2.06.94z\"/><path d=\"M17.41 7.96l-1.37-1.37c-.4-.4-.92-.59-1.43-.59-.52 0-1.04.2-1.43.59L10.3 9.45l-7.72 7.72c-.78.78-.78 2.05 0 2.83L4 21.41c.39.39.9.59 1.41.59.51 0 1.02-.2 1.41-.59l7.78-7.78 2.81-2.81c.8-.78.8-2.07 0-2.86zM5.41 20L4 18.59l7.72-7.72 1.47 1.35L5.41 20z\"/>\n",
       "  </svg>\n",
       "      </button>\n",
       "      \n",
       "  <style>\n",
       "    .colab-df-container {\n",
       "      display:flex;\n",
       "      flex-wrap:wrap;\n",
       "      gap: 12px;\n",
       "    }\n",
       "\n",
       "    .colab-df-convert {\n",
       "      background-color: #E8F0FE;\n",
       "      border: none;\n",
       "      border-radius: 50%;\n",
       "      cursor: pointer;\n",
       "      display: none;\n",
       "      fill: #1967D2;\n",
       "      height: 32px;\n",
       "      padding: 0 0 0 0;\n",
       "      width: 32px;\n",
       "    }\n",
       "\n",
       "    .colab-df-convert:hover {\n",
       "      background-color: #E2EBFA;\n",
       "      box-shadow: 0px 1px 2px rgba(60, 64, 67, 0.3), 0px 1px 3px 1px rgba(60, 64, 67, 0.15);\n",
       "      fill: #174EA6;\n",
       "    }\n",
       "\n",
       "    [theme=dark] .colab-df-convert {\n",
       "      background-color: #3B4455;\n",
       "      fill: #D2E3FC;\n",
       "    }\n",
       "\n",
       "    [theme=dark] .colab-df-convert:hover {\n",
       "      background-color: #434B5C;\n",
       "      box-shadow: 0px 1px 3px 1px rgba(0, 0, 0, 0.15);\n",
       "      filter: drop-shadow(0px 1px 2px rgba(0, 0, 0, 0.3));\n",
       "      fill: #FFFFFF;\n",
       "    }\n",
       "  </style>\n",
       "\n",
       "      <script>\n",
       "        const buttonEl =\n",
       "          document.querySelector('#df-338a9314-caa6-4ad6-ad93-49514b0ad1ff button.colab-df-convert');\n",
       "        buttonEl.style.display =\n",
       "          google.colab.kernel.accessAllowed ? 'block' : 'none';\n",
       "\n",
       "        async function convertToInteractive(key) {\n",
       "          const element = document.querySelector('#df-338a9314-caa6-4ad6-ad93-49514b0ad1ff');\n",
       "          const dataTable =\n",
       "            await google.colab.kernel.invokeFunction('convertToInteractive',\n",
       "                                                     [key], {});\n",
       "          if (!dataTable) return;\n",
       "\n",
       "          const docLinkHtml = 'Like what you see? Visit the ' +\n",
       "            '<a target=\"_blank\" href=https://colab.research.google.com/notebooks/data_table.ipynb>data table notebook</a>'\n",
       "            + ' to learn more about interactive tables.';\n",
       "          element.innerHTML = '';\n",
       "          dataTable['output_type'] = 'display_data';\n",
       "          await google.colab.output.renderOutput(dataTable, element);\n",
       "          const docLink = document.createElement('div');\n",
       "          docLink.innerHTML = docLinkHtml;\n",
       "          element.appendChild(docLink);\n",
       "        }\n",
       "      </script>\n",
       "    </div>\n",
       "  </div>\n",
       "  "
      ],
      "text/plain": [
       "              commit_message_length      bugs\n",
       "                               mean      mean\n",
       "commit_author                                \n",
       "Eve                        5.666667  3.555556\n",
       "Peggy                      5.000000  3.500000\n",
       "Victor                     4.261194  3.462687\n",
       "Mallory                    4.791045  3.179104\n",
       "Bob                        4.500000  2.500000\n",
       "Dabe                       2.952381  2.404762\n",
       "Wendy                      3.583333  2.250000\n",
       "Trudy                      2.888889  2.111111\n",
       "Carol                      8.750000  1.500000\n",
       "Alice                      2.500000  0.500000"
      ]
     },
     "execution_count": 22,
     "metadata": {},
     "output_type": "execute_result"
    }
   ],
   "source": [
    "df = data_copy.groupby('commit_author').agg({'commit_message_length': ['mean'], 'bugs': 'mean'}).sort_values(by=('bugs', 'mean'), ascending=False)\n",
    "df"
   ]
  },
  {
   "cell_type": "code",
   "execution_count": null,
   "metadata": {
    "colab": {
     "base_uri": "https://localhost:8080/",
     "height": 265
    },
    "id": "EtxnIe0KxcwV",
    "outputId": "5b3b7c10-2db4-4849-f57d-f737e02634be"
   },
   "outputs": [
    {
     "data": {
      "image/png": "[encoded data removed]",
      "text/plain": [
       "<Figure size 432x288 with 1 Axes>"
      ]
     },
     "metadata": {
      "needs_background": "light"
     },
     "output_type": "display_data"
    }
   ],
   "source": [
    "plt.plot(df.index, df[('commit_message_length', 'mean')], '-bo', label='message_length_mean')\n",
    "plt.plot(df.index, df[('bugs', 'mean')], '-ro', label='bugs_mean')\n",
    "plt.legend()\n",
    "plt.grid()"
   ]
  },
  {
   "cell_type": "markdown",
   "metadata": {
    "id": "cK9P2l9krHeV"
   },
   "source": [
    "С одной стороны, может показаться, что чем длиннее сообщение, тем больше ошибок допускает сотрудник. Это однако это правило не работает для Carol, у которой при средней длине сообщений 8.7 слов - всего лишь в среднем 1.5 бага."
   ]
  },
  {
   "cell_type": "markdown",
   "metadata": {
    "id": "K5_nuHkdrrBI"
   },
   "source": [
    "Посмотрим, какое количество ошибок совершают сотруднки в разных репозиториях."
   ]
  },
  {
   "cell_type": "code",
   "execution_count": null,
   "metadata": {
    "colab": {
     "base_uri": "https://localhost:8080/",
     "height": 269
    },
    "id": "keAP_Z0ZsM84",
    "outputId": "dc714b34-6b16-40a3-842b-2b406c4d391c"
   },
   "outputs": [
    {
     "data": {
      "text/html": [
       "\n",
       "  <div id=\"df-10537060-a20f-475d-9028-f80d306cc5b3\">\n",
       "    <div class=\"colab-df-container\">\n",
       "      <div>\n",
       "<style scoped>\n",
       "    .dataframe tbody tr th:only-of-type {\n",
       "        vertical-align: middle;\n",
       "    }\n",
       "\n",
       "    .dataframe tbody tr th {\n",
       "        vertical-align: top;\n",
       "    }\n",
       "\n",
       "    .dataframe thead th {\n",
       "        text-align: right;\n",
       "    }\n",
       "</style>\n",
       "<table border=\"1\" class=\"dataframe\">\n",
       "  <thead>\n",
       "    <tr style=\"text-align: right;\">\n",
       "      <th>commit_author</th>\n",
       "      <th>Alice</th>\n",
       "      <th>Bob</th>\n",
       "      <th>Carol</th>\n",
       "      <th>Dabe</th>\n",
       "      <th>Eve</th>\n",
       "      <th>Mallory</th>\n",
       "      <th>Peggy</th>\n",
       "      <th>Trudy</th>\n",
       "      <th>Victor</th>\n",
       "      <th>Wendy</th>\n",
       "    </tr>\n",
       "    <tr>\n",
       "      <th>repository_name</th>\n",
       "      <th></th>\n",
       "      <th></th>\n",
       "      <th></th>\n",
       "      <th></th>\n",
       "      <th></th>\n",
       "      <th></th>\n",
       "      <th></th>\n",
       "      <th></th>\n",
       "      <th></th>\n",
       "      <th></th>\n",
       "    </tr>\n",
       "  </thead>\n",
       "  <tbody>\n",
       "    <tr>\n",
       "      <th>agent</th>\n",
       "      <td>NaN</td>\n",
       "      <td>NaN</td>\n",
       "      <td>NaN</td>\n",
       "      <td>NaN</td>\n",
       "      <td>NaN</td>\n",
       "      <td>NaN</td>\n",
       "      <td>NaN</td>\n",
       "      <td>NaN</td>\n",
       "      <td>2.928571</td>\n",
       "      <td>NaN</td>\n",
       "    </tr>\n",
       "    <tr>\n",
       "      <th>conductor</th>\n",
       "      <td>NaN</td>\n",
       "      <td>NaN</td>\n",
       "      <td>NaN</td>\n",
       "      <td>2.600000</td>\n",
       "      <td>4.333333</td>\n",
       "      <td>3.333333</td>\n",
       "      <td>NaN</td>\n",
       "      <td>2.333333</td>\n",
       "      <td>3.833333</td>\n",
       "      <td>2.250000</td>\n",
       "    </tr>\n",
       "    <tr>\n",
       "      <th>dockers</th>\n",
       "      <td>NaN</td>\n",
       "      <td>2.5</td>\n",
       "      <td>1.5</td>\n",
       "      <td>NaN</td>\n",
       "      <td>NaN</td>\n",
       "      <td>4.000000</td>\n",
       "      <td>NaN</td>\n",
       "      <td>NaN</td>\n",
       "      <td>2.000000</td>\n",
       "      <td>2.714286</td>\n",
       "    </tr>\n",
       "    <tr>\n",
       "      <th>mlm</th>\n",
       "      <td>NaN</td>\n",
       "      <td>NaN</td>\n",
       "      <td>NaN</td>\n",
       "      <td>NaN</td>\n",
       "      <td>NaN</td>\n",
       "      <td>NaN</td>\n",
       "      <td>3.5</td>\n",
       "      <td>NaN</td>\n",
       "      <td>5.102564</td>\n",
       "      <td>NaN</td>\n",
       "    </tr>\n",
       "    <tr>\n",
       "      <th>sensor</th>\n",
       "      <td>0.5</td>\n",
       "      <td>NaN</td>\n",
       "      <td>NaN</td>\n",
       "      <td>1.428571</td>\n",
       "      <td>3.166667</td>\n",
       "      <td>2.892857</td>\n",
       "      <td>NaN</td>\n",
       "      <td>1.666667</td>\n",
       "      <td>2.234043</td>\n",
       "      <td>1.333333</td>\n",
       "    </tr>\n",
       "    <tr>\n",
       "      <th>standard</th>\n",
       "      <td>NaN</td>\n",
       "      <td>NaN</td>\n",
       "      <td>NaN</td>\n",
       "      <td>NaN</td>\n",
       "      <td>NaN</td>\n",
       "      <td>NaN</td>\n",
       "      <td>NaN</td>\n",
       "      <td>NaN</td>\n",
       "      <td>3.384615</td>\n",
       "      <td>2.562500</td>\n",
       "    </tr>\n",
       "  </tbody>\n",
       "</table>\n",
       "</div>\n",
       "      <button class=\"colab-df-convert\" onclick=\"convertToInteractive('df-10537060-a20f-475d-9028-f80d306cc5b3')\"\n",
       "              title=\"Convert this dataframe to an interactive table.\"\n",
       "              style=\"display:none;\">\n",
       "        \n",
       "  <svg xmlns=\"http://www.w3.org/2000/svg\" height=\"24px\"viewBox=\"0 0 24 24\"\n",
       "       width=\"24px\">\n",
       "    <path d=\"M0 0h24v24H0V0z\" fill=\"none\"/>\n",
       "    <path d=\"M18.56 5.44l.94 2.06.94-2.06 2.06-.94-2.06-.94-.94-2.06-.94 2.06-2.06.94zm-11 1L8.5 8.5l.94-2.06 2.06-.94-2.06-.94L8.5 2.5l-.94 2.06-2.06.94zm10 10l.94 2.06.94-2.06 2.06-.94-2.06-.94-.94-2.06-.94 2.06-2.06.94z\"/><path d=\"M17.41 7.96l-1.37-1.37c-.4-.4-.92-.59-1.43-.59-.52 0-1.04.2-1.43.59L10.3 9.45l-7.72 7.72c-.78.78-.78 2.05 0 2.83L4 21.41c.39.39.9.59 1.41.59.51 0 1.02-.2 1.41-.59l7.78-7.78 2.81-2.81c.8-.78.8-2.07 0-2.86zM5.41 20L4 18.59l7.72-7.72 1.47 1.35L5.41 20z\"/>\n",
       "  </svg>\n",
       "      </button>\n",
       "      \n",
       "  <style>\n",
       "    .colab-df-container {\n",
       "      display:flex;\n",
       "      flex-wrap:wrap;\n",
       "      gap: 12px;\n",
       "    }\n",
       "\n",
       "    .colab-df-convert {\n",
       "      background-color: #E8F0FE;\n",
       "      border: none;\n",
       "      border-radius: 50%;\n",
       "      cursor: pointer;\n",
       "      display: none;\n",
       "      fill: #1967D2;\n",
       "      height: 32px;\n",
       "      padding: 0 0 0 0;\n",
       "      width: 32px;\n",
       "    }\n",
       "\n",
       "    .colab-df-convert:hover {\n",
       "      background-color: #E2EBFA;\n",
       "      box-shadow: 0px 1px 2px rgba(60, 64, 67, 0.3), 0px 1px 3px 1px rgba(60, 64, 67, 0.15);\n",
       "      fill: #174EA6;\n",
       "    }\n",
       "\n",
       "    [theme=dark] .colab-df-convert {\n",
       "      background-color: #3B4455;\n",
       "      fill: #D2E3FC;\n",
       "    }\n",
       "\n",
       "    [theme=dark] .colab-df-convert:hover {\n",
       "      background-color: #434B5C;\n",
       "      box-shadow: 0px 1px 3px 1px rgba(0, 0, 0, 0.15);\n",
       "      filter: drop-shadow(0px 1px 2px rgba(0, 0, 0, 0.3));\n",
       "      fill: #FFFFFF;\n",
       "    }\n",
       "  </style>\n",
       "\n",
       "      <script>\n",
       "        const buttonEl =\n",
       "          document.querySelector('#df-10537060-a20f-475d-9028-f80d306cc5b3 button.colab-df-convert');\n",
       "        buttonEl.style.display =\n",
       "          google.colab.kernel.accessAllowed ? 'block' : 'none';\n",
       "\n",
       "        async function convertToInteractive(key) {\n",
       "          const element = document.querySelector('#df-10537060-a20f-475d-9028-f80d306cc5b3');\n",
       "          const dataTable =\n",
       "            await google.colab.kernel.invokeFunction('convertToInteractive',\n",
       "                                                     [key], {});\n",
       "          if (!dataTable) return;\n",
       "\n",
       "          const docLinkHtml = 'Like what you see? Visit the ' +\n",
       "            '<a target=\"_blank\" href=https://colab.research.google.com/notebooks/data_table.ipynb>data table notebook</a>'\n",
       "            + ' to learn more about interactive tables.';\n",
       "          element.innerHTML = '';\n",
       "          dataTable['output_type'] = 'display_data';\n",
       "          await google.colab.output.renderOutput(dataTable, element);\n",
       "          const docLink = document.createElement('div');\n",
       "          docLink.innerHTML = docLinkHtml;\n",
       "          element.appendChild(docLink);\n",
       "        }\n",
       "      </script>\n",
       "    </div>\n",
       "  </div>\n",
       "  "
      ],
      "text/plain": [
       "commit_author    Alice  Bob  Carol      Dabe       Eve   Mallory  Peggy  \\\n",
       "repository_name                                                           \n",
       "agent              NaN  NaN    NaN       NaN       NaN       NaN    NaN   \n",
       "conductor          NaN  NaN    NaN  2.600000  4.333333  3.333333    NaN   \n",
       "dockers            NaN  2.5    1.5       NaN       NaN  4.000000    NaN   \n",
       "mlm                NaN  NaN    NaN       NaN       NaN       NaN    3.5   \n",
       "sensor             0.5  NaN    NaN  1.428571  3.166667  2.892857    NaN   \n",
       "standard           NaN  NaN    NaN       NaN       NaN       NaN    NaN   \n",
       "\n",
       "commit_author       Trudy    Victor     Wendy  \n",
       "repository_name                                \n",
       "agent                 NaN  2.928571       NaN  \n",
       "conductor        2.333333  3.833333  2.250000  \n",
       "dockers               NaN  2.000000  2.714286  \n",
       "mlm                   NaN  5.102564       NaN  \n",
       "sensor           1.666667  2.234043  1.333333  \n",
       "standard              NaN  3.384615  2.562500  "
      ]
     },
     "execution_count": 24,
     "metadata": {},
     "output_type": "execute_result"
    }
   ],
   "source": [
    "data_copy.pivot_table(index='repository_name', columns='commit_author', values='bugs', aggfunc='mean')"
   ]
  },
  {
   "cell_type": "markdown",
   "metadata": {
    "id": "nCQhR0nny8kR"
   },
   "source": [
    "Посмотрим, какой длины сообщения пишут сотрудники в разных репозиториях."
   ]
  },
  {
   "cell_type": "code",
   "execution_count": null,
   "metadata": {
    "colab": {
     "base_uri": "https://localhost:8080/",
     "height": 269
    },
    "id": "Zrk49brasyjr",
    "outputId": "a031891f-1d99-4af0-d29c-93bb18fde3cf"
   },
   "outputs": [
    {
     "data": {
      "text/html": [
       "\n",
       "  <div id=\"df-171970bf-f369-4768-bdba-70a01a81ee5e\">\n",
       "    <div class=\"colab-df-container\">\n",
       "      <div>\n",
       "<style scoped>\n",
       "    .dataframe tbody tr th:only-of-type {\n",
       "        vertical-align: middle;\n",
       "    }\n",
       "\n",
       "    .dataframe tbody tr th {\n",
       "        vertical-align: top;\n",
       "    }\n",
       "\n",
       "    .dataframe thead th {\n",
       "        text-align: right;\n",
       "    }\n",
       "</style>\n",
       "<table border=\"1\" class=\"dataframe\">\n",
       "  <thead>\n",
       "    <tr style=\"text-align: right;\">\n",
       "      <th>commit_author</th>\n",
       "      <th>Alice</th>\n",
       "      <th>Bob</th>\n",
       "      <th>Carol</th>\n",
       "      <th>Dabe</th>\n",
       "      <th>Eve</th>\n",
       "      <th>Mallory</th>\n",
       "      <th>Peggy</th>\n",
       "      <th>Trudy</th>\n",
       "      <th>Victor</th>\n",
       "      <th>Wendy</th>\n",
       "    </tr>\n",
       "    <tr>\n",
       "      <th>repository_name</th>\n",
       "      <th></th>\n",
       "      <th></th>\n",
       "      <th></th>\n",
       "      <th></th>\n",
       "      <th></th>\n",
       "      <th></th>\n",
       "      <th></th>\n",
       "      <th></th>\n",
       "      <th></th>\n",
       "      <th></th>\n",
       "    </tr>\n",
       "  </thead>\n",
       "  <tbody>\n",
       "    <tr>\n",
       "      <th>agent</th>\n",
       "      <td>NaN</td>\n",
       "      <td>NaN</td>\n",
       "      <td>NaN</td>\n",
       "      <td>NaN</td>\n",
       "      <td>NaN</td>\n",
       "      <td>NaN</td>\n",
       "      <td>NaN</td>\n",
       "      <td>NaN</td>\n",
       "      <td>4.071429</td>\n",
       "      <td>NaN</td>\n",
       "    </tr>\n",
       "    <tr>\n",
       "      <th>conductor</th>\n",
       "      <td>NaN</td>\n",
       "      <td>NaN</td>\n",
       "      <td>NaN</td>\n",
       "      <td>3.057143</td>\n",
       "      <td>5.666667</td>\n",
       "      <td>4.861111</td>\n",
       "      <td>NaN</td>\n",
       "      <td>3.000000</td>\n",
       "      <td>5.000000</td>\n",
       "      <td>3.937500</td>\n",
       "    </tr>\n",
       "    <tr>\n",
       "      <th>dockers</th>\n",
       "      <td>NaN</td>\n",
       "      <td>4.5</td>\n",
       "      <td>8.75</td>\n",
       "      <td>NaN</td>\n",
       "      <td>NaN</td>\n",
       "      <td>5.666667</td>\n",
       "      <td>NaN</td>\n",
       "      <td>NaN</td>\n",
       "      <td>3.333333</td>\n",
       "      <td>4.571429</td>\n",
       "    </tr>\n",
       "    <tr>\n",
       "      <th>mlm</th>\n",
       "      <td>NaN</td>\n",
       "      <td>NaN</td>\n",
       "      <td>NaN</td>\n",
       "      <td>NaN</td>\n",
       "      <td>NaN</td>\n",
       "      <td>NaN</td>\n",
       "      <td>5.0</td>\n",
       "      <td>NaN</td>\n",
       "      <td>5.102564</td>\n",
       "      <td>NaN</td>\n",
       "    </tr>\n",
       "    <tr>\n",
       "      <th>sensor</th>\n",
       "      <td>2.5</td>\n",
       "      <td>NaN</td>\n",
       "      <td>NaN</td>\n",
       "      <td>2.428571</td>\n",
       "      <td>5.666667</td>\n",
       "      <td>4.607143</td>\n",
       "      <td>NaN</td>\n",
       "      <td>2.666667</td>\n",
       "      <td>3.553191</td>\n",
       "      <td>2.666667</td>\n",
       "    </tr>\n",
       "    <tr>\n",
       "      <th>standard</th>\n",
       "      <td>NaN</td>\n",
       "      <td>NaN</td>\n",
       "      <td>NaN</td>\n",
       "      <td>NaN</td>\n",
       "      <td>NaN</td>\n",
       "      <td>NaN</td>\n",
       "      <td>NaN</td>\n",
       "      <td>NaN</td>\n",
       "      <td>3.692308</td>\n",
       "      <td>3.312500</td>\n",
       "    </tr>\n",
       "  </tbody>\n",
       "</table>\n",
       "</div>\n",
       "      <button class=\"colab-df-convert\" onclick=\"convertToInteractive('df-171970bf-f369-4768-bdba-70a01a81ee5e')\"\n",
       "              title=\"Convert this dataframe to an interactive table.\"\n",
       "              style=\"display:none;\">\n",
       "        \n",
       "  <svg xmlns=\"http://www.w3.org/2000/svg\" height=\"24px\"viewBox=\"0 0 24 24\"\n",
       "       width=\"24px\">\n",
       "    <path d=\"M0 0h24v24H0V0z\" fill=\"none\"/>\n",
       "    <path d=\"M18.56 5.44l.94 2.06.94-2.06 2.06-.94-2.06-.94-.94-2.06-.94 2.06-2.06.94zm-11 1L8.5 8.5l.94-2.06 2.06-.94-2.06-.94L8.5 2.5l-.94 2.06-2.06.94zm10 10l.94 2.06.94-2.06 2.06-.94-2.06-.94-.94-2.06-.94 2.06-2.06.94z\"/><path d=\"M17.41 7.96l-1.37-1.37c-.4-.4-.92-.59-1.43-.59-.52 0-1.04.2-1.43.59L10.3 9.45l-7.72 7.72c-.78.78-.78 2.05 0 2.83L4 21.41c.39.39.9.59 1.41.59.51 0 1.02-.2 1.41-.59l7.78-7.78 2.81-2.81c.8-.78.8-2.07 0-2.86zM5.41 20L4 18.59l7.72-7.72 1.47 1.35L5.41 20z\"/>\n",
       "  </svg>\n",
       "      </button>\n",
       "      \n",
       "  <style>\n",
       "    .colab-df-container {\n",
       "      display:flex;\n",
       "      flex-wrap:wrap;\n",
       "      gap: 12px;\n",
       "    }\n",
       "\n",
       "    .colab-df-convert {\n",
       "      background-color: #E8F0FE;\n",
       "      border: none;\n",
       "      border-radius: 50%;\n",
       "      cursor: pointer;\n",
       "      display: none;\n",
       "      fill: #1967D2;\n",
       "      height: 32px;\n",
       "      padding: 0 0 0 0;\n",
       "      width: 32px;\n",
       "    }\n",
       "\n",
       "    .colab-df-convert:hover {\n",
       "      background-color: #E2EBFA;\n",
       "      box-shadow: 0px 1px 2px rgba(60, 64, 67, 0.3), 0px 1px 3px 1px rgba(60, 64, 67, 0.15);\n",
       "      fill: #174EA6;\n",
       "    }\n",
       "\n",
       "    [theme=dark] .colab-df-convert {\n",
       "      background-color: #3B4455;\n",
       "      fill: #D2E3FC;\n",
       "    }\n",
       "\n",
       "    [theme=dark] .colab-df-convert:hover {\n",
       "      background-color: #434B5C;\n",
       "      box-shadow: 0px 1px 3px 1px rgba(0, 0, 0, 0.15);\n",
       "      filter: drop-shadow(0px 1px 2px rgba(0, 0, 0, 0.3));\n",
       "      fill: #FFFFFF;\n",
       "    }\n",
       "  </style>\n",
       "\n",
       "      <script>\n",
       "        const buttonEl =\n",
       "          document.querySelector('#df-171970bf-f369-4768-bdba-70a01a81ee5e button.colab-df-convert');\n",
       "        buttonEl.style.display =\n",
       "          google.colab.kernel.accessAllowed ? 'block' : 'none';\n",
       "\n",
       "        async function convertToInteractive(key) {\n",
       "          const element = document.querySelector('#df-171970bf-f369-4768-bdba-70a01a81ee5e');\n",
       "          const dataTable =\n",
       "            await google.colab.kernel.invokeFunction('convertToInteractive',\n",
       "                                                     [key], {});\n",
       "          if (!dataTable) return;\n",
       "\n",
       "          const docLinkHtml = 'Like what you see? Visit the ' +\n",
       "            '<a target=\"_blank\" href=https://colab.research.google.com/notebooks/data_table.ipynb>data table notebook</a>'\n",
       "            + ' to learn more about interactive tables.';\n",
       "          element.innerHTML = '';\n",
       "          dataTable['output_type'] = 'display_data';\n",
       "          await google.colab.output.renderOutput(dataTable, element);\n",
       "          const docLink = document.createElement('div');\n",
       "          docLink.innerHTML = docLinkHtml;\n",
       "          element.appendChild(docLink);\n",
       "        }\n",
       "      </script>\n",
       "    </div>\n",
       "  </div>\n",
       "  "
      ],
      "text/plain": [
       "commit_author    Alice  Bob  Carol      Dabe       Eve   Mallory  Peggy  \\\n",
       "repository_name                                                           \n",
       "agent              NaN  NaN    NaN       NaN       NaN       NaN    NaN   \n",
       "conductor          NaN  NaN    NaN  3.057143  5.666667  4.861111    NaN   \n",
       "dockers            NaN  4.5   8.75       NaN       NaN  5.666667    NaN   \n",
       "mlm                NaN  NaN    NaN       NaN       NaN       NaN    5.0   \n",
       "sensor             2.5  NaN    NaN  2.428571  5.666667  4.607143    NaN   \n",
       "standard           NaN  NaN    NaN       NaN       NaN       NaN    NaN   \n",
       "\n",
       "commit_author       Trudy    Victor     Wendy  \n",
       "repository_name                                \n",
       "agent                 NaN  4.071429       NaN  \n",
       "conductor        3.000000  5.000000  3.937500  \n",
       "dockers               NaN  3.333333  4.571429  \n",
       "mlm                   NaN  5.102564       NaN  \n",
       "sensor           2.666667  3.553191  2.666667  \n",
       "standard              NaN  3.692308  3.312500  "
      ]
     },
     "execution_count": 25,
     "metadata": {},
     "output_type": "execute_result"
    }
   ],
   "source": [
    "data_copy.pivot_table(index='repository_name', columns='commit_author', values='commit_message_length', aggfunc='mean')"
   ]
  },
  {
   "cell_type": "markdown",
   "metadata": {
    "id": "gWaf-nTbs92L"
   },
   "source": [
    "Можно обратить внимание на Victor. Длина его сообщений в среднем и в репозитории mlm и в репозитории conductor равнялась 5 словам, однако в mlm в среднем у него было 5 багов, а в conductor - 3. Есть основания предпологать, что количество ошибок действительно может в некоторой степени зависеть от репозитория."
   ]
  },
  {
   "cell_type": "markdown",
   "metadata": {
    "id": "nCDLIMBs8kFr"
   },
   "source": [
    "### Резюме"
   ]
  },
  {
   "cell_type": "markdown",
   "metadata": {
    "id": "CKcmkQv08j4U"
   },
   "source": [
    "В ходе краткого исследовательского анализа было выявлено, что:  \n",
    "- Количество багов варьируется в зависимости от названия репозитория (`repository_name`)\n",
    "- Количество багов варьируется в зависимости от автора коммита (`commit_author`)\n",
    "- Наибольшее количество багов в основном наблюдалось у коммитов с более длинными сообщениями. Коэффициент линейной корреляции Пирсона между количеством багов и длиной сообщения составляет 0.76. \n",
    "- Коммиты были сделаны в период с 8 марта 2020 года по 12 июня 2020 года.\n",
    "- Среднее количество багов за весь период равняется 3-м. Максимальное количество багов - 12. Форма распределения количества багов близка к нормальному, однако имеет тяжелый хвост справа.\n",
    "\n",
    "\n",
    "На основании проведенного анализа, можно выдвинуть несколько предположений:  \n",
    "- Первое предположение: чем более длинное сообщение, тем больше ошибок будет в коммите.  \n",
    "- Второе предположение: количество ошибок (как и длина сообщения) может зависеть от сотрудника.\n",
    "- Третье предположение: возможно, некоторые сотрудники допускают больше багов в одних репозиториях, нежели в других. При этом, есть вероятность того, что при коммите, содержащим баг, сотрудник напишет более длинное сообщение.\n",
    "\n",
    "Признаки `commit_hash` и `commit_date` будут исключены из датасета, так как они не несут пользы для дальнейшего обучения алгоритмов машинного обучения.   \n"
   ]
  },
  {
   "cell_type": "markdown",
   "metadata": {
    "id": "Z-CPxeyX-272"
   },
   "source": [
    "# 3. Предобработка данных и создание новых признаков"
   ]
  },
  {
   "cell_type": "markdown",
   "metadata": {
    "id": "W6-KBvFd-3P5"
   },
   "source": [
    "На данном этапе, мы: \n",
    "- Осуществим предобработку столбца `commit_message`\n",
    "- Создадим дополнительный признак - \"длина сообщения\"."
   ]
  },
  {
   "cell_type": "code",
   "execution_count": 55,
   "metadata": {
    "id": "1y6SjEal-7Jq"
   },
   "outputs": [],
   "source": [
    "# Данные, которые подвергнутся предобработке сохраним в переменную \"data_pp\"\n",
    "data_pp = data.copy().drop(['commit_hash', 'commit_date'], axis=1)"
   ]
  },
  {
   "cell_type": "code",
   "execution_count": 56,
   "metadata": {
    "id": "Ol1BgiDrSo-k"
   },
   "outputs": [],
   "source": [
    "# Создадим список стоп-слов на русском и английском языке\n",
    "stopwords_rus = stopwords.words(\"russian\")\n",
    "stopwords_eng = stopwords.words(\"english\")\n",
    "stopwords_all = stopwords_rus + stopwords_eng\n",
    "\n",
    "# Создадим функцию, которая будет делать токенизацию и лемматизацию предложения.\n",
    "def tokenize_lemmatize(text):\n",
    "  list_of_tokens = list()\n",
    "  morph = pymorphy2.MorphAnalyzer()\n",
    "  nlp = spacy.load('en',  disable=['parser', 'ner'])\n",
    "  pattern = '[!\"#$%&\\'()*+,-./:;<=>?@[\\\\]^_`{|}~ \\t\\n\\r\\x0b\\x0c!\"#$%&\\'()*+,-./:;<=>?@[\\\\]^_`{|}~]'\n",
    "  # Приведем текст к нижнему регистру\n",
    "  text = text.lower()\n",
    "  # Уберем все специфические символы\n",
    "  text = re.sub(pattern, ' ', text)\n",
    "\n",
    "  for token in nltk.word_tokenize(text):\n",
    "    if (token in string.punctuation) or (token in string.printable) or (token in stopwords_all): \n",
    "      continue\n",
    "    token = morph.parse(token)[0].normal_form # Лемматизация русских слов\n",
    "    doc = nlp(token)\n",
    "    token = [tok.lemma_ for tok in doc][0] # Лемматизация английских слов\n",
    "    list_of_tokens.append(token)\n",
    "  return list_of_tokens"
   ]
  },
  {
   "cell_type": "code",
   "execution_count": 57,
   "metadata": {
    "id": "O4Hgm5aPMeqb"
   },
   "outputs": [],
   "source": [
    "# Создадим признак \"длина сообщения\"\n",
    "data_pp['message_length'] = data_pp['commit_message'].apply(tokenize).apply(len)\n",
    "\n",
    "# Сделаем токенизацию и лемматизацию и сохраним список токенов в столбце \"commit_message_pp\"\n",
    "data_pp['commit_message_pp'] = data_pp['commit_message'].apply(tokenize_lemmatize)"
   ]
  },
  {
   "cell_type": "code",
   "execution_count": 58,
   "metadata": {
    "colab": {
     "base_uri": "https://localhost:8080/",
     "height": 0
    },
    "id": "HXCJlIEkduU5",
    "outputId": "2f9c1261-6fc0-4568-b52f-7032a89a569a"
   },
   "outputs": [
    {
     "data": {
      "text/html": [
       "\n",
       "  <div id=\"df-f3db7fcd-5a7c-4fcf-afb2-8cb660837e4a\">\n",
       "    <div class=\"colab-df-container\">\n",
       "      <div>\n",
       "<style scoped>\n",
       "    .dataframe tbody tr th:only-of-type {\n",
       "        vertical-align: middle;\n",
       "    }\n",
       "\n",
       "    .dataframe tbody tr th {\n",
       "        vertical-align: top;\n",
       "    }\n",
       "\n",
       "    .dataframe thead th {\n",
       "        text-align: right;\n",
       "    }\n",
       "</style>\n",
       "<table border=\"1\" class=\"dataframe\">\n",
       "  <thead>\n",
       "    <tr style=\"text-align: right;\">\n",
       "      <th></th>\n",
       "      <th>repository_name</th>\n",
       "      <th>commit_author</th>\n",
       "      <th>commit_message</th>\n",
       "      <th>bugs</th>\n",
       "      <th>message_length</th>\n",
       "      <th>commit_message_pp</th>\n",
       "    </tr>\n",
       "  </thead>\n",
       "  <tbody>\n",
       "    <tr>\n",
       "      <th>0</th>\n",
       "      <td>mlm</td>\n",
       "      <td>Victor</td>\n",
       "      <td>объяснения предсказаний с помощью lime</td>\n",
       "      <td>4</td>\n",
       "      <td>5</td>\n",
       "      <td>[объяснение, предсказание, помощь, lime]</td>\n",
       "    </tr>\n",
       "    <tr>\n",
       "      <th>1</th>\n",
       "      <td>mlm</td>\n",
       "      <td>Victor</td>\n",
       "      <td>Поставил lime вместо eli5</td>\n",
       "      <td>3</td>\n",
       "      <td>4</td>\n",
       "      <td>[поставить, lime, вместо, eli5]</td>\n",
       "    </tr>\n",
       "    <tr>\n",
       "      <th>2</th>\n",
       "      <td>mlm</td>\n",
       "      <td>Victor</td>\n",
       "      <td>Скрипт для создния пакетов обновления</td>\n",
       "      <td>4</td>\n",
       "      <td>5</td>\n",
       "      <td>[скрипт, создние, пакет, обновление]</td>\n",
       "    </tr>\n",
       "    <tr>\n",
       "      <th>3</th>\n",
       "      <td>mlm</td>\n",
       "      <td>Victor</td>\n",
       "      <td>Сортировка весов по убыванию</td>\n",
       "      <td>3</td>\n",
       "      <td>4</td>\n",
       "      <td>[сортировка, вес, убывание]</td>\n",
       "    </tr>\n",
       "    <tr>\n",
       "      <th>4</th>\n",
       "      <td>mlm</td>\n",
       "      <td>Victor</td>\n",
       "      <td>не надо конвертировать массив до операции по с...</td>\n",
       "      <td>7</td>\n",
       "      <td>9</td>\n",
       "      <td>[конвертировать, массив, операция, смена, знак]</td>\n",
       "    </tr>\n",
       "  </tbody>\n",
       "</table>\n",
       "</div>\n",
       "      <button class=\"colab-df-convert\" onclick=\"convertToInteractive('df-f3db7fcd-5a7c-4fcf-afb2-8cb660837e4a')\"\n",
       "              title=\"Convert this dataframe to an interactive table.\"\n",
       "              style=\"display:none;\">\n",
       "        \n",
       "  <svg xmlns=\"http://www.w3.org/2000/svg\" height=\"24px\"viewBox=\"0 0 24 24\"\n",
       "       width=\"24px\">\n",
       "    <path d=\"M0 0h24v24H0V0z\" fill=\"none\"/>\n",
       "    <path d=\"M18.56 5.44l.94 2.06.94-2.06 2.06-.94-2.06-.94-.94-2.06-.94 2.06-2.06.94zm-11 1L8.5 8.5l.94-2.06 2.06-.94-2.06-.94L8.5 2.5l-.94 2.06-2.06.94zm10 10l.94 2.06.94-2.06 2.06-.94-2.06-.94-.94-2.06-.94 2.06-2.06.94z\"/><path d=\"M17.41 7.96l-1.37-1.37c-.4-.4-.92-.59-1.43-.59-.52 0-1.04.2-1.43.59L10.3 9.45l-7.72 7.72c-.78.78-.78 2.05 0 2.83L4 21.41c.39.39.9.59 1.41.59.51 0 1.02-.2 1.41-.59l7.78-7.78 2.81-2.81c.8-.78.8-2.07 0-2.86zM5.41 20L4 18.59l7.72-7.72 1.47 1.35L5.41 20z\"/>\n",
       "  </svg>\n",
       "      </button>\n",
       "      \n",
       "  <style>\n",
       "    .colab-df-container {\n",
       "      display:flex;\n",
       "      flex-wrap:wrap;\n",
       "      gap: 12px;\n",
       "    }\n",
       "\n",
       "    .colab-df-convert {\n",
       "      background-color: #E8F0FE;\n",
       "      border: none;\n",
       "      border-radius: 50%;\n",
       "      cursor: pointer;\n",
       "      display: none;\n",
       "      fill: #1967D2;\n",
       "      height: 32px;\n",
       "      padding: 0 0 0 0;\n",
       "      width: 32px;\n",
       "    }\n",
       "\n",
       "    .colab-df-convert:hover {\n",
       "      background-color: #E2EBFA;\n",
       "      box-shadow: 0px 1px 2px rgba(60, 64, 67, 0.3), 0px 1px 3px 1px rgba(60, 64, 67, 0.15);\n",
       "      fill: #174EA6;\n",
       "    }\n",
       "\n",
       "    [theme=dark] .colab-df-convert {\n",
       "      background-color: #3B4455;\n",
       "      fill: #D2E3FC;\n",
       "    }\n",
       "\n",
       "    [theme=dark] .colab-df-convert:hover {\n",
       "      background-color: #434B5C;\n",
       "      box-shadow: 0px 1px 3px 1px rgba(0, 0, 0, 0.15);\n",
       "      filter: drop-shadow(0px 1px 2px rgba(0, 0, 0, 0.3));\n",
       "      fill: #FFFFFF;\n",
       "    }\n",
       "  </style>\n",
       "\n",
       "      <script>\n",
       "        const buttonEl =\n",
       "          document.querySelector('#df-f3db7fcd-5a7c-4fcf-afb2-8cb660837e4a button.colab-df-convert');\n",
       "        buttonEl.style.display =\n",
       "          google.colab.kernel.accessAllowed ? 'block' : 'none';\n",
       "\n",
       "        async function convertToInteractive(key) {\n",
       "          const element = document.querySelector('#df-f3db7fcd-5a7c-4fcf-afb2-8cb660837e4a');\n",
       "          const dataTable =\n",
       "            await google.colab.kernel.invokeFunction('convertToInteractive',\n",
       "                                                     [key], {});\n",
       "          if (!dataTable) return;\n",
       "\n",
       "          const docLinkHtml = 'Like what you see? Visit the ' +\n",
       "            '<a target=\"_blank\" href=https://colab.research.google.com/notebooks/data_table.ipynb>data table notebook</a>'\n",
       "            + ' to learn more about interactive tables.';\n",
       "          element.innerHTML = '';\n",
       "          dataTable['output_type'] = 'display_data';\n",
       "          await google.colab.output.renderOutput(dataTable, element);\n",
       "          const docLink = document.createElement('div');\n",
       "          docLink.innerHTML = docLinkHtml;\n",
       "          element.appendChild(docLink);\n",
       "        }\n",
       "      </script>\n",
       "    </div>\n",
       "  </div>\n",
       "  "
      ],
      "text/plain": [
       "  repository_name commit_author  \\\n",
       "0             mlm        Victor   \n",
       "1             mlm        Victor   \n",
       "2             mlm        Victor   \n",
       "3             mlm        Victor   \n",
       "4             mlm        Victor   \n",
       "\n",
       "                                      commit_message  bugs  message_length  \\\n",
       "0             объяснения предсказаний с помощью lime     4               5   \n",
       "1                          Поставил lime вместо eli5     3               4   \n",
       "2              Скрипт для создния пакетов обновления     4               5   \n",
       "3                       Сортировка весов по убыванию     3               4   \n",
       "4  не надо конвертировать массив до операции по с...     7               9   \n",
       "\n",
       "                                 commit_message_pp  \n",
       "0         [объяснение, предсказание, помощь, lime]  \n",
       "1                  [поставить, lime, вместо, eli5]  \n",
       "2             [скрипт, создние, пакет, обновление]  \n",
       "3                      [сортировка, вес, убывание]  \n",
       "4  [конвертировать, массив, операция, смена, знак]  "
      ]
     },
     "execution_count": 58,
     "metadata": {},
     "output_type": "execute_result"
    }
   ],
   "source": [
    "data_pp.head()"
   ]
  },
  {
   "cell_type": "code",
   "execution_count": 59,
   "metadata": {
    "id": "ZzHmlyepSVuF"
   },
   "outputs": [],
   "source": [
    "# Создадим множество из всех уникальных слов, которые присутствуют в столбце \"commit_message\"\n",
    "words_set = set([y for x in [l for l in data_pp['commit_message_pp'].values] for y in x])\n",
    "# Отсортируем это множетсво и сохраним в список\n",
    "words_list = sorted(list(words_set))\n",
    "# Создадим словарь со всеми отсортированными уникальными словами, из столбца \"commit_message\"\n",
    "word_dict = dict(zip([i for i in range(len(words_list))], [word for word in words_list]))"
   ]
  },
  {
   "cell_type": "code",
   "execution_count": 60,
   "metadata": {
    "colab": {
     "base_uri": "https://localhost:8080/"
    },
    "id": "BkpkAIp2duMS",
    "outputId": "bf569dd9-5897-4d1e-9e90-325ce80822c9"
   },
   "outputs": [
    {
     "data": {
      "text/plain": [
       "(319, 548)"
      ]
     },
     "execution_count": 60,
     "metadata": {},
     "output_type": "execute_result"
    }
   ],
   "source": [
    "# Созадидим матрицу, в которой кол-во строк = кол-ву строк в датасете, а кол-во столбцов = кол-ву уникальных слов в столбце \"commit_message\"\n",
    "wcount_array = np.zeros((data_pp.shape[0], len(word_dict)))\n",
    "wcount_array.shape"
   ]
  },
  {
   "cell_type": "code",
   "execution_count": 61,
   "metadata": {
    "id": "ikWnNYl3lyZG"
   },
   "outputs": [],
   "source": [
    "# Для каждого предложения создадим вектор, в котором стоит 1 - если слово встерчается в предложении, и 0 - если отсутсвует.\n",
    "# Вектора сохраним в переменную \"wcount_array\"\n",
    "for i in range(wcount_array.shape[0]):\n",
    "    for j in range(wcount_array.shape[1]):\n",
    "        val = word_dict[j] in data_pp['commit_message_pp'][i]\n",
    "        wcount_array[i, j] = val"
   ]
  },
  {
   "cell_type": "code",
   "execution_count": 62,
   "metadata": {
    "id": "xGMV2JAxYVJD"
   },
   "outputs": [],
   "source": [
    "# Сохраним вектора с предложениями в переменную `word_features` в формате DataFrame.  \n",
    "word_features = pd.DataFrame(wcount_array, index=data_pp.index, columns=word_dict.values(), dtype=np.int8)\n",
    "\n",
    "# Сохраним оставшиеся признаки в переменную `main_features`\n",
    "main_features = data_pp[['repository_name', 'commit_author', 'message_length']]\n",
    "\n",
    "# Сохраним все признаки в переменную \"all_features\"\n",
    "all_features = main_features.merge(word_features, left_index=True, right_index=True)\n",
    "\n",
    "# Сгенерируем также признак, который будет содержать случайные числа, распределенные равномерно.\n",
    "np.random.seed(1)\n",
    "rand_array = np.random.randint(main_features['message_length'].min(), main_features['message_length'].max(), main_features.shape[0])\n",
    "# Сохраним датасет из основных признаков + случайный признак в переменную \"main_features_rand\"\n",
    "main_features_rand = main_features.copy() \n",
    "main_features_rand['rand_feature'] = rand_array\n",
    "\n",
    "# Сохраним целевой признак в переменную `target`\n",
    "target = data_pp['bugs']\n",
    "\n",
    "# Сохраним список категориальных столбцов в переменную \"cat_columns\"\n",
    "cat_columns = list(main_features.select_dtypes(include='object').columns)"
   ]
  },
  {
   "cell_type": "code",
   "execution_count": 63,
   "metadata": {
    "colab": {
     "base_uri": "https://localhost:8080/"
    },
    "id": "rOK-3XYdeMv9",
    "outputId": "f4e13fa1-12a4-4327-cfa3-78e24453aefb"
   },
   "outputs": [
    {
     "name": "stdout",
     "output_type": "stream",
     "text": [
      "main_features shape:\n",
      "repository_name    object\n",
      "commit_author      object\n",
      "message_length      int64\n",
      "dtype: object\n",
      "(319, 3)\n",
      "----------\n",
      "word_features shape:\n",
      "25            int8\n",
      "400           int8\n",
      "401           int8\n",
      "403           int8\n",
      "777           int8\n",
      "              ... \n",
      "частичный     int8\n",
      "частота       int8\n",
      "часть         int8\n",
      "энтрипоинт    int8\n",
      "это           int8\n",
      "Length: 548, dtype: object\n",
      "(319, 548)\n",
      "----------\n",
      "all_features shape:\n",
      "repository_name    object\n",
      "commit_author      object\n",
      "message_length      int64\n",
      "25                   int8\n",
      "400                  int8\n",
      "                    ...  \n",
      "частичный            int8\n",
      "частота              int8\n",
      "часть                int8\n",
      "энтрипоинт           int8\n",
      "это                  int8\n",
      "Length: 551, dtype: object\n",
      "(319, 551)\n",
      "----------\n"
     ]
    }
   ],
   "source": [
    "# Выведем на экран размеры датафремой и форматы хранения данных\n",
    "for d, name in zip([main_features, word_features, all_features], ['main_features', 'word_features', 'all_features']):\n",
    "  print(name, 'shape:')\n",
    "  print(d.dtypes)\n",
    "  print(d.shape)\n",
    "  print('-'*10)"
   ]
  },
  {
   "cell_type": "markdown",
   "metadata": {
    "id": "2BiTJocDgmMF"
   },
   "source": [
    "**Краткое резюме**  \n",
    "В результате предобработки данных, мы:\n",
    "- Провели токенизацию, лемматизацию столбца `commit_message`, а также преобразовали предложения из данного столбца в вектора. \n",
    "- Создали признак \"длина сообщения\".\n",
    "- Создали несколько таблиц с признаками для обучения:  \n",
    "  - `word_features` - содержит матрицу с векторами предложений из столбца `commit_message`\n",
    "  - `main_features` - Основные признаки (автор и репозиторий коммита, а также длина сообщения)\n",
    "  - `all_features` - все признаки\n",
    "  - `main_features_rand` - основные признаки плюс 1 признак, заполненный случайными равномерно распределенными числами (создан для фильтрации признаков, которые действительно влияют на предсказания)"
   ]
  },
  {
   "cell_type": "markdown",
   "metadata": {
    "id": "PRR3UthagtPZ"
   },
   "source": [
    "# 4. Поиск закономерностей в данных"
   ]
  },
  {
   "cell_type": "markdown",
   "metadata": {
    "id": "2nwKyz9ng9fv"
   },
   "source": [
    "На данном этапе перейдем к построению моделей машинного обучения."
   ]
  },
  {
   "cell_type": "markdown",
   "metadata": {
    "id": "VRB8yQJNgtuO"
   },
   "source": [
    "Будем обучать 3 модели:  \n",
    "- Линейную регрессию\n",
    "- Случайный лес\n",
    "- Гредиентный бустинг  \n",
    "\n",
    "Также, мы осуществим проверку качества предсказания на 3-х тиах данных:  \n",
    "- Обучим модели на `all_features`\n",
    "- Обучим модели только на `main_features`\n",
    "- Обучим модели только на `word_features`  \n",
    "\n",
    "Качество работы моделей будем проверять на кросс-валидации (cv=10)"
   ]
  },
  {
   "cell_type": "markdown",
   "metadata": {
    "id": "fdkoUaGgqZsF"
   },
   "source": [
    "## 4.0 DummyRegressor"
   ]
  },
  {
   "cell_type": "markdown",
   "metadata": {
    "id": "FsPR846eupz5"
   },
   "source": [
    "Обучим константную модель регрессии, которая предсказывает среднее значение таргета и посмотрим на ее RMSE."
   ]
  },
  {
   "cell_type": "code",
   "execution_count": null,
   "metadata": {
    "colab": {
     "base_uri": "https://localhost:8080/"
    },
    "id": "_eY5kpGsqdVL",
    "outputId": "69f12a3a-c02c-410c-8c3a-22cdf3d4eaff"
   },
   "outputs": [
    {
     "name": "stdout",
     "output_type": "stream",
     "text": [
      "Dummy Regressor: 1.8238235012282402\n"
     ]
    }
   ],
   "source": [
    "dummy_score = cross_val_score(DummyRegressor(), all_features, target, scoring='neg_root_mean_squared_error', error_score='raise')\n",
    "print('Dummy Regressor:', -dummy_score.mean())"
   ]
  },
  {
   "cell_type": "markdown",
   "metadata": {
    "id": "ShyxQRJajqhL"
   },
   "source": [
    "## 4.1 Linear Regression"
   ]
  },
  {
   "cell_type": "markdown",
   "metadata": {
    "id": "LuvHQNxj1nFq"
   },
   "source": [
    "Обучим несколько моделей линейной регрессии с разными параметрами регуляризации на разных датасетах и проверим качество предсказания на кросс-валидации (cv=10)"
   ]
  },
  {
   "cell_type": "code",
   "execution_count": null,
   "metadata": {
    "colab": {
     "base_uri": "https://localhost:8080/"
    },
    "id": "2oL5npcKn0JU",
    "outputId": "984c62c8-0d58-4008-e7c5-e1be4e77df40"
   },
   "outputs": [
    {
     "name": "stdout",
     "output_type": "stream",
     "text": [
      "L2-регуляризация\n",
      "Linear Regression / all_features: 1.0909117534169588\n",
      "Linear Regression / word_features: 1.7672277854405507\n",
      "Linear Regression / main_features: 1.0909608897315022\n",
      "----------\n",
      "ElasticNet-регуляризация (0.5/0.5)\n",
      "Linear Regression / all_features: 1.167133249127148\n",
      "Linear Regression / word_features: 1.7771704331101765\n",
      "Linear Regression / main_features: 1.167133249127148\n",
      "----------\n",
      "Без регуляризации\n",
      "Linear Regression / all_features: 928614256.9031305\n",
      "Linear Regression / word_features: 26852088056854.594\n",
      "Linear Regression / main_features: 1.0644427372309324\n",
      "----------\n"
     ]
    }
   ],
   "source": [
    "for name, model in zip(['L2-регуляризация', 'ElasticNet-регуляризация (0.5/0.5)', 'Без регуляризации'], \n",
    "                       [ElasticNet(l1_ratio=0, random_state=1), ElasticNet(l1_ratio=0.5, random_state=1), LinearRegression()]):\n",
    "  lr = model\n",
    "  ct = ColumnTransformer(\n",
    "      [('ohe', OneHotEncoder(drop='first', sparse=False, dtype=np.int8, handle_unknown='ignore'), cat_columns)], remainder='passthrough')\n",
    "  lr_pipe = Pipeline([('ct', ct), ('lr', lr)])\n",
    "\n",
    "  lr_all_score = cross_val_score(lr_pipe, all_features, target, scoring='neg_root_mean_squared_error', error_score='raise', cv=10)\n",
    "  lr_word_score = cross_val_score(lr, word_features, target, scoring='neg_root_mean_squared_error', error_score='raise', cv=10)\n",
    "  lr_main_score = cross_val_score(lr_pipe, main_features, target, scoring='neg_root_mean_squared_error', error_score='raise', cv=10)\n",
    "\n",
    "  print(name)\n",
    "  print('Linear Regression / all_features:', -lr_all_score.mean())\n",
    "  print('Linear Regression / word_features:', -lr_word_score.mean())\n",
    "  print('Linear Regression / main_features:', -lr_main_score.mean())\n",
    "  print('-'*10)"
   ]
  },
  {
   "cell_type": "markdown",
   "metadata": {
    "id": "32O_ry9Rwddi"
   },
   "source": [
    "Наилучший результат показала модель линейной регрессии без использования регуляризации на признаках `main_features`. Второй по качеству результат показала модель с L2-регуляризацией.   \n",
    "\n",
    "Также можно заметить, что количество ошибок никак не зависит от тех слов, которые использовались в тексте самого коммита."
   ]
  },
  {
   "cell_type": "markdown",
   "metadata": {
    "id": "izfKGWjxOAoI"
   },
   "source": [
    "Обучим 2 модели: линейную регрессию и Ridge-регрессию и посмотрим на важность признаков."
   ]
  },
  {
   "cell_type": "code",
   "execution_count": null,
   "metadata": {
    "colab": {
     "base_uri": "https://localhost:8080/"
    },
    "id": "WKpi4LYhizDN",
    "outputId": "e12accbf-2998-4a79-88a8-287a6386a678"
   },
   "outputs": [
    {
     "data": {
      "text/plain": [
       "Pipeline(steps=[('ct',\n",
       "                 ColumnTransformer(remainder='passthrough',\n",
       "                                   transformers=[('ohe',\n",
       "                                                  OneHotEncoder(drop='first',\n",
       "                                                                dtype=<class 'numpy.int8'>,\n",
       "                                                                handle_unknown='ignore',\n",
       "                                                                sparse=False),\n",
       "                                                  ['repository_name',\n",
       "                                                   'commit_author'])])),\n",
       "                ('lr', ElasticNet(l1_ratio=0, random_state=1))])"
      ]
     },
     "execution_count": 37,
     "metadata": {},
     "output_type": "execute_result"
    }
   ],
   "source": [
    "# Обучаем линейную регрессию без регуляризации\n",
    "lr = LinearRegression()\n",
    "ct = ColumnTransformer(\n",
    "    [('ohe', OneHotEncoder(drop='first', sparse=False, dtype=np.int8, handle_unknown='ignore'), cat_columns)], remainder='passthrough')\n",
    "lr_pipe = Pipeline([('ct', ct), ('lr', lr)])\n",
    "lr_pipe.fit(main_features, target)\n",
    "\n",
    "# Обучаем Ridge регрессию\n",
    "lr_l2 = ElasticNet(l1_ratio=0, random_state=1)\n",
    "ct = ColumnTransformer(\n",
    "    [('ohe', OneHotEncoder(drop='first', sparse=False, dtype=np.int8, handle_unknown='ignore'), cat_columns)], remainder='passthrough')\n",
    "lr_pipe_l2 = Pipeline([('ct', ct), ('lr', lr_l2)])\n",
    "lr_pipe_l2.fit(main_features, target)"
   ]
  },
  {
   "cell_type": "code",
   "execution_count": null,
   "metadata": {
    "colab": {
     "base_uri": "https://localhost:8080/",
     "height": 423
    },
    "id": "PoMjH4IoizAd",
    "outputId": "ad50cada-454a-4f47-c1a6-18c5d04b70f8"
   },
   "outputs": [
    {
     "name": "stdout",
     "output_type": "stream",
     "text": [
      "Linear Regression\n"
     ]
    },
    {
     "data": {
      "text/plain": [
       "count    15.000000\n",
       "mean      0.309448\n",
       "std       1.178261\n",
       "min      -3.437009\n",
       "25%       0.044369\n",
       "50%       0.667024\n",
       "75%       0.971698\n",
       "max       1.486200\n",
       "dtype: float64"
      ]
     },
     "metadata": {},
     "output_type": "display_data"
    },
    {
     "name": "stdout",
     "output_type": "stream",
     "text": [
      "----------\n",
      "Ridge\n"
     ]
    },
    {
     "data": {
      "text/plain": [
       "count    15.000000\n",
       "mean      0.036257\n",
       "std       0.153362\n",
       "min      -0.129402\n",
       "25%      -0.030832\n",
       "50%      -0.003708\n",
       "75%       0.017142\n",
       "max       0.529006\n",
       "dtype: float64"
      ]
     },
     "metadata": {},
     "output_type": "display_data"
    },
    {
     "name": "stdout",
     "output_type": "stream",
     "text": [
      "----------\n"
     ]
    }
   ],
   "source": [
    "# Посмотрим на коэффициенты линейной регрессии, чтобы проверить, не переобучились ли модели\n",
    "for name, model in zip(['Linear Regression', 'Ridge'], [lr_pipe, lr_pipe_l2]):\n",
    "  print(name)\n",
    "  display(pd.Series(model['lr'].coef_).describe())\n",
    "  print('-'*10)"
   ]
  },
  {
   "cell_type": "markdown",
   "metadata": {
    "id": "cWDM7mjcvCsK"
   },
   "source": [
    "Коэффиценты небольшие, все в порядке."
   ]
  },
  {
   "cell_type": "markdown",
   "metadata": {
    "id": "bhVrXK23utRG"
   },
   "source": [
    "Посмотрим, каким признакам модели задали наибольший вес."
   ]
  },
  {
   "cell_type": "code",
   "execution_count": null,
   "metadata": {
    "colab": {
     "base_uri": "https://localhost:8080/",
     "height": 336
    },
    "id": "-SRrdcHor_vo",
    "outputId": "766bddd2-af31-4035-b63d-a9251da847d0"
   },
   "outputs": [
    {
     "data": {
      "image/png": "[encoded data removed]",
      "text/plain": [
       "<Figure size 1584x360 with 2 Axes>"
      ]
     },
     "metadata": {
      "needs_background": "light"
     },
     "output_type": "display_data"
    }
   ],
   "source": [
    "fig, ax = plt.subplots(1, 2, figsize=(22, 5))\n",
    "for i, model in enumerate([lr_pipe, lr_pipe_l2]):\n",
    "  if i == 0:\n",
    "    tit = 'Linear Regression'\n",
    "  else:\n",
    "    tit = 'Ridge'\n",
    "  (\n",
    "      pd.DataFrame(model['lr'].coef_, index=model['ct'].get_feature_names())\n",
    "      .sort_values(by=0, ascending=False)\n",
    "      .plot.barh(grid=True, title=f'{tit} Feature Importances', ax=ax[i])\n",
    "  );\n",
    "  ax[i].legend(['regression_coef']);"
   ]
  },
  {
   "cell_type": "markdown",
   "metadata": {
    "id": "-BX159vRQb80"
   },
   "source": [
    "Если верить трактовке весов линейной регрессии, то количество багов в основном зависит от сотрудника и также от того, является ли репозиторий mlm.  \n",
    "Если же верить Ridge регрессии, то наибольшую корреляцию количество багов имеет с длинной сообщения. В результате L2-регуляризации веса признаков, связанных с именами сотрудников были сильно уменьшены и практически сведены к нулю. При этом, качество предсказания практически не изменилось. Иными словами, получается, что вне зависимости от того, какой сотрудник делал коммит, наибольшее влияние на количество багов имеет то, насколько длинным было сообщение, которое оставлял сотрудник."
   ]
  },
  {
   "cell_type": "markdown",
   "metadata": {
    "id": "kLkA7yBuSPC0"
   },
   "source": [
    "Следующим шагом посмотрим, какие результаты покажут нелинейные модели."
   ]
  },
  {
   "cell_type": "markdown",
   "metadata": {
    "id": "lKLH9DuFw4DA"
   },
   "source": [
    "## 4.2 Random Forest"
   ]
  },
  {
   "cell_type": "markdown",
   "metadata": {
    "id": "yqDLYrASIB6f"
   },
   "source": [
    "Оценим качество работы случайного леса."
   ]
  },
  {
   "cell_type": "code",
   "execution_count": 66,
   "metadata": {
    "colab": {
     "base_uri": "https://localhost:8080/"
    },
    "id": "NAvws2dkyTxX",
    "outputId": "15973f26-e9d4-40d7-8eb9-07f1d8f84cc6"
   },
   "outputs": [
    {
     "name": "stdout",
     "output_type": "stream",
     "text": [
      "Random Forest / all_features: 1.0770612239188666\n",
      "Random Forest / text_features: 1.746579635000085\n",
      "Random Forest / main_features: 1.0244864612058708\n"
     ]
    }
   ],
   "source": [
    "rf = RandomForestRegressor(n_estimators=500, min_samples_leaf=5, max_features=0.33, random_state=1)\n",
    "ct = ColumnTransformer(\n",
    "    [('ordinal_encode', OrdinalEncoder(handle_unknown='use_encoded_value', unknown_value=111), cat_columns)], remainder='passthrough')\n",
    "\n",
    "rf_pipe = Pipeline([('ct', ct), ('rf', rf)])\n",
    "\n",
    "rf_all_score = cross_val_score(rf_pipe, all_features, target, scoring='neg_root_mean_squared_error', error_score='raise', cv=10)\n",
    "rf_word_score = cross_val_score(rf, word_features, target, scoring='neg_root_mean_squared_error', error_score='raise', cv=10)\n",
    "rf_main_score = cross_val_score(rf_pipe, main_features, target, scoring='neg_root_mean_squared_error', error_score='raise', cv=10)\n",
    "\n",
    "print('Random Forest / all_features:', -rf_all_score.mean())\n",
    "print('Random Forest / text_features:', -rf_word_score.mean())\n",
    "print('Random Forest / main_features:', -rf_main_score.mean())"
   ]
  },
  {
   "cell_type": "markdown",
   "metadata": {
    "id": "AXYA_pBpyeRp"
   },
   "source": [
    "Модель случайного леса показала наилучший результат на признаках, которые не содержат текста коммита (`main_features`)."
   ]
  },
  {
   "cell_type": "code",
   "execution_count": 67,
   "metadata": {
    "colab": {
     "base_uri": "https://localhost:8080/",
     "height": 281
    },
    "id": "eMfbFOzDzW0-",
    "outputId": "a5e773ce-a2e4-4440-ab9a-d2f36ba90f58"
   },
   "outputs": [
    {
     "data": {
      "image/png": "[encoded data removed]",
      "text/plain": [
       "<Figure size 432x288 with 1 Axes>"
      ]
     },
     "metadata": {
      "needs_background": "light"
     },
     "output_type": "display_data"
    }
   ],
   "source": [
    "# Обучим случайный лес.\n",
    "rf_pipe.fit(main_features, target)\n",
    "\n",
    "# Посмотрим на важность признаков.\n",
    "(\n",
    "    pd.DataFrame(rf_pipe['rf'].feature_importances_, index=main_features.columns)\n",
    "    .sort_values(by=0, ascending=True).\n",
    "    plot.barh(grid=True, title='Random Forest Feature Importances')\n",
    ");\n",
    "plt.legend(['Random Forest Feature Importances']);"
   ]
  },
  {
   "cell_type": "markdown",
   "metadata": {
    "id": "2tUZTP8q5VN4"
   },
   "source": [
    "Обучим случайный лес на датасете с признаком, заполненным случайным числом. Так мы сможем проверить, действительно ли признаки `repository_name` и `commit_author` имеют влияние на количество багов.  \n",
    "Если имеют - то их важность окажестя выше, чем важность случайной фичи."
   ]
  },
  {
   "cell_type": "code",
   "execution_count": 68,
   "metadata": {
    "colab": {
     "base_uri": "https://localhost:8080/",
     "height": 281
    },
    "id": "mmdLY1Wr5Dp2",
    "outputId": "61fa0366-4f5e-40bb-f482-c6ad914170f4"
   },
   "outputs": [
    {
     "data": {
      "image/png": "[encoded data removed]",
      "text/plain": [
       "<Figure size 432x288 with 1 Axes>"
      ]
     },
     "metadata": {
      "needs_background": "light"
     },
     "output_type": "display_data"
    }
   ],
   "source": [
    "rf_pipe.fit(main_features_rand, target)\n",
    "\n",
    "(\n",
    "    pd.DataFrame(rf_pipe['rf'].feature_importances_, index=main_features_rand.columns)\n",
    "    .sort_values(by=0, ascending=True).\n",
    "    plot.barh(grid=True, title='Random Forest Feature Importances')\n",
    ");\n",
    "plt.legend(['Random Forest Feature Importances']);"
   ]
  },
  {
   "cell_type": "markdown",
   "metadata": {
    "id": "65G6ZOLu5N36"
   },
   "source": [
    "Да, эти признаки имеют влияние на целевую переменную."
   ]
  },
  {
   "cell_type": "markdown",
   "metadata": {
    "id": "04uiGSO456Wc"
   },
   "source": [
    "## 4.3 Gradient Boosting Machine"
   ]
  },
  {
   "cell_type": "markdown",
   "metadata": {
    "id": "QiibuSf17x6c"
   },
   "source": [
    "Посмотрим как покажет себя модель градиентного бустинга. Результат будем смотреть только на основных признаках (`main_features`), так как на основании прошлых проверок можно сделать вывод, что содержание текста с количеством багов никак не коррелирует."
   ]
  },
  {
   "cell_type": "code",
   "execution_count": null,
   "metadata": {
    "colab": {
     "base_uri": "https://localhost:8080/"
    },
    "id": "sAbjYW6-6OgC",
    "outputId": "d3c114a8-49e3-464f-9222-c21f3df5b0bb"
   },
   "outputs": [
    {
     "name": "stdout",
     "output_type": "stream",
     "text": [
      "CatBoost / main_features: 1.0451282853640458\n"
     ]
    }
   ],
   "source": [
    "catboost = CatBoostRegressor(iterations=5000, random_seed=1)\n",
    "cb_main_score = cross_val_score(\n",
    "    catboost, main_features, target, cv=10, scoring='neg_root_mean_squared_error', error_score='raise', \n",
    "    fit_params={'cat_features': cat_columns, 'verbose': 0}\n",
    ")\n",
    "\n",
    "print('CatBoost / main_features:', -cb_main_score.mean())"
   ]
  },
  {
   "cell_type": "code",
   "execution_count": null,
   "metadata": {
    "colab": {
     "base_uri": "https://localhost:8080/",
     "height": 281
    },
    "id": "J-_lPmWR9FW7",
    "outputId": "53e86b03-9b03-4d41-c782-11652e14bc7a"
   },
   "outputs": [
    {
     "data": {
      "image/png": "[encoded data removed]",
      "text/plain": [
       "<Figure size 432x288 with 1 Axes>"
      ]
     },
     "metadata": {
      "needs_background": "light"
     },
     "output_type": "display_data"
    }
   ],
   "source": [
    "# Обучим модель градиентного бустинга\n",
    "catboost.fit(main_features, target, cat_features=cat_columns, verbose=0)\n",
    "\n",
    "# Посмотрим на важность признаков\n",
    "(\n",
    "    pd.DataFrame(catboost.feature_importances_, index=main_features.columns)\n",
    "    .sort_values(by=0, ascending=True).\n",
    "    plot.barh(grid=True, title='Random Forest Feature Importances')\n",
    ");\n",
    "plt.legend(['Random Forest Feature Importances']);"
   ]
  },
  {
   "cell_type": "markdown",
   "metadata": {
    "id": "DHAiVna99Zkb"
   },
   "source": [
    "Картина получилась та же самая, что и со случайным лесом. Наиболее важные признак - длина сообщения. Следущий по важности признак - название репозитория. И наименее важный - имя автора."
   ]
  },
  {
   "cell_type": "markdown",
   "metadata": {
    "id": "4BdMWLsGlEgS"
   },
   "source": [
    "Интерпретируем предсказания модели с использованием библиотеки `shap`"
   ]
  },
  {
   "cell_type": "code",
   "execution_count": null,
   "metadata": {
    "id": "sONHB2uRZ13A"
   },
   "outputs": [],
   "source": [
    "explainer = shap.TreeExplainer(catboost)\n",
    "shap_values = explainer.shap_values(main_features)"
   ]
  },
  {
   "cell_type": "markdown",
   "metadata": {
    "id": "wr66uO484aOS"
   },
   "source": [
    "Посмотрим на график для признака \"длина сообщения\"."
   ]
  },
  {
   "cell_type": "code",
   "execution_count": null,
   "metadata": {
    "colab": {
     "base_uri": "https://localhost:8080/",
     "height": 341
    },
    "id": "TZKwSttbdH6-",
    "outputId": "b396f479-d222-4560-c46c-f64c46f5bc74"
   },
   "outputs": [
    {
     "data": {
      "image/png": "[encoded data removed]",
      "text/plain": [
       "<Figure size 540x360 with 2 Axes>"
      ]
     },
     "metadata": {
      "needs_background": "light"
     },
     "output_type": "display_data"
    }
   ],
   "source": [
    "shap.dependence_plot(\"message_length\", shap_values, main_features)"
   ]
  },
  {
   "cell_type": "markdown",
   "metadata": {
    "id": "-eeFEBzggmx5"
   },
   "source": [
    "На графике хорошо видно, что практически все сотрудники писали сообщения разной длины. При этом, чем больше длина, тем в большую сторону сдвигаются предсказания модели."
   ]
  },
  {
   "cell_type": "markdown",
   "metadata": {
    "id": "J0uA45wy4mhr"
   },
   "source": [
    "Посмотрим на график для признака \"наименование репозитория\""
   ]
  },
  {
   "cell_type": "code",
   "execution_count": null,
   "metadata": {
    "colab": {
     "base_uri": "https://localhost:8080/",
     "height": 386
    },
    "id": "hVjC_PoJhFss",
    "outputId": "92090bf7-8d59-4230-c67f-852a966d1c33"
   },
   "outputs": [
    {
     "data": {
      "image/png": "[encoded data removed]",
      "text/plain": [
       "<Figure size 540x360 with 2 Axes>"
      ]
     },
     "metadata": {
      "needs_background": "light"
     },
     "output_type": "display_data"
    }
   ],
   "source": [
    "shap.dependence_plot(\"repository_name\", shap_values, main_features, interaction_index=2)"
   ]
  },
  {
   "cell_type": "markdown",
   "metadata": {
    "id": "zjJBwAOphJSS"
   },
   "source": [
    "На этом графике можно заметить, что в репозитории mlm были  написаны сообщения разной длины (более того, в других репозиториях также присутствуют сообщения такой же длины, что и в mlm), однако сам факт того, что они были написаны в этом репозитории сдвигает предсказания модели в сторону большего количества багов."
   ]
  },
  {
   "cell_type": "markdown",
   "metadata": {
    "id": "SoLypojV5A6O"
   },
   "source": [
    "Посмотрим на график для признака \"автор коммита\"."
   ]
  },
  {
   "cell_type": "code",
   "execution_count": null,
   "metadata": {
    "colab": {
     "base_uri": "https://localhost:8080/",
     "height": 371
    },
    "id": "ZLOy-Xogj-bj",
    "outputId": "fa91f522-ed20-415f-a2b4-a61dbef2934b"
   },
   "outputs": [
    {
     "data": {
      "image/png": "[encoded data removed]",
      "text/plain": [
       "<Figure size 540x360 with 2 Axes>"
      ]
     },
     "metadata": {
      "needs_background": "light"
     },
     "output_type": "display_data"
    }
   ],
   "source": [
    "shap.dependence_plot(\"commit_author\", shap_values, main_features, interaction_index=2)"
   ]
  },
  {
   "cell_type": "markdown",
   "metadata": {
    "id": "ZLKcUf8akZd7"
   },
   "source": [
    "На этом графике видно, что вклад каждого автора в предсказанное количество багов минимален.  \n",
    "Иными словами, не смотря на то, что присутствие некоторых сотрудников сдвигает предсказания модели в большую сторону, а присутствие иных - в меньшую, этот сдвиг очень мал и практически незначителен."
   ]
  },
  {
   "cell_type": "markdown",
   "metadata": {
    "id": "QXsIfFQ6JvN4"
   },
   "source": [
    "# 5. Скрипт для обучения модели."
   ]
  },
  {
   "cell_type": "markdown",
   "metadata": {
    "id": "a6y4fxngrvg8"
   },
   "source": [
    "Напишем скрипт для обучения модели."
   ]
  },
  {
   "cell_type": "code",
   "execution_count": null,
   "metadata": {
    "id": "jGkLyMR2J0If"
   },
   "outputs": [],
   "source": [
    "# Импортируем необходимые библиотеки\n",
    "import pandas as pd\n",
    "import numpy as np\n",
    "import string\n",
    "import nltk\n",
    "\n",
    "from sklearn.ensemble import RandomForestRegressor\n",
    "from sklearn.pipeline import Pipeline\n",
    "from sklearn.compose import ColumnTransformer\n",
    "from sklearn.preprocessing import OrdinalEncoder\n",
    "\n",
    "nltk.download('wordnet')\n",
    "nltk.download('punkt')\n",
    "\n",
    "# Создадим функцию, которая будет разбивать текст на токены\n",
    "def tokenize(text):\n",
    "  list_of_tokens = list()\n",
    "\n",
    "  for token in nltk.word_tokenize(text):\n",
    "    if (token in string.punctuation) or (token in string.printable): \n",
    "      continue\n",
    "    list_of_tokens.append(token)\n",
    "  return list_of_tokens\n",
    "\n",
    "# Создадим функцию для предобработки данных\n",
    "def prepare_data(raw_dataset_features):\n",
    "  prepared_features = raw_dataset_features.copy()\n",
    "  prepared_features['message_length'] = prepared_features['commit_message'].apply(tokenize).apply(len)\n",
    "  prepared_features = prepared_features.drop(['commit_hash', 'commit_date', 'commit_message'], axis=1)\n",
    "  return prepared_features\n",
    "\n",
    "# Создадим функцию, которая будет обучать модель случайного леса на данных\n",
    "def fit_estimator(prepared_features, target):\n",
    "  cat_columns = list(prepared_features.select_dtypes(include='object').columns)\n",
    "  rf = RandomForestRegressor(n_estimators=500, min_samples_leaf=5, max_features=0.33, random_state=1)\n",
    "  ct = ColumnTransformer(\n",
    "    [('ordinal_encode', OrdinalEncoder(handle_unknown='use_encoded_value', unknown_value=111), cat_columns)], remainder='passthrough')\n",
    "  estimator = Pipeline([('ct', ct), ('rf', rf)])\n",
    "  estimator.fit(prepared_features, target)\n",
    "  return estimator\n",
    "\n",
    "# Создадим функцию, которая будет создавать предсказания\n",
    "def predict(estimator, test_data):\n",
    "  predictions = estimator.predict(test_data)\n",
    "  return predictions"
   ]
  },
  {
   "cell_type": "markdown",
   "metadata": {
    "id": "2lbgSndDZwo8"
   },
   "source": [
    "# 6. Резюме"
   ]
  },
  {
   "cell_type": "markdown",
   "metadata": {
    "id": "7G5teS4GZzzw"
   },
   "source": [
    "Целью данной работы являлось выявить зависимость числа `bugs` от значений признаков `repository_name`, `commit_hash`, `commit_date`, `commit_author` и `commit_message`, а также реализовать модель, на основе данного датасета, которая с максимальной точностью сможет предсказывать количество `bugs`.  \n",
    "\n",
    "1. Первым этапом был произведен исследовательский анализ данных. В результате его проведения, было выявлено, что:\n",
    "- Количество багов варьируется в зависимости от названия репозитория (`repository_name`)\n",
    "- Количество багов варьируется в зависимости от автора коммита (`commit_author`)\n",
    "- Наибольшее количество багов в основном наблюдалось у коммитов с более динными сообщениями. Коэффициент линейной корреляции Пирсона между количеством багов и длиной сообщения составляет 0.76.\n",
    "- Среднее количество багов за весь период равняется 3-м. Максимальное количество багов - 12. Форма распределения количества багов близка к нормальному, однако имеет тяжелый хвост справа.\n",
    "- Коммиты были сделаны в период с 8 марта 2020 года по 12 июня 2020 года.\n",
    "\n",
    "Также, на основании проведенного анализа, было выдвинуто несколько предположений:\n",
    "- Чем более длинное сообщение, тем больше ошибок будет в коммите.\n",
    "- Количество ошибок (как и длина сообщения) может зависеть от сотрудника.\n",
    "- Возможно, некоторые сотрудники допускают больше багов в одних репозиториях, нежели в других. При этом, есть вероятность того, что при коммите, содержащем баг, сотрудник напишет более длинное сообщение.\n",
    "\n",
    "2. Следующим шагом была произведена предобработка данных. В результате предобработки данных:\n",
    "- Была произведена токенизация, лемматизация столбца `commit_message`, предложения из данного столбца были преобразованы в onehot-encoded вектора.\n",
    "- Был создан признак \"длина сообщения\" (`message_length`). \n",
    "- Были созданы несколько таблиц с признаками для обучения:\n",
    "  - `word_features` - содержит матрицу с векторами предложений из столбца `commit_message`. \n",
    "  - `main_features` - содержит основные признаки (автор и репозиторий коммита, а также длина сообщения).\n",
    "  - `all_features` - содержит все признаки.\n",
    "  - `main_features_rand` - содержит основные признаки плюс 1 признак, заполненный случаными равномерно распределенными числами (создан для фильтрации важных признаков)\n",
    "\n",
    "3. На следующем этапе была осуществлена оценка качества работы моделей машинного обучения.  \n",
    "Были проверены 3 модели: \n",
    "- Линейная регрессия (без регуляризации, с L2-регуляризацией и с регуляризацией ElasticNet(0.5/0.5))\n",
    "- Случайный лес\n",
    "- Градиентный бустинг над деревьями   \n",
    "\n",
    "Проверка производилась с использованием 10-fold кросс-валидации.   \n",
    "Качество работы моделей оценивалось на различных наборах признаков. На оcновном наборе `main_features` (который включал в себя признаки \"автор коммита\", \"репозиторий коммита\", \"длина сообщения\"), а также на на веторизованном тексте `word_features`(векторизованные сообщения коммитов). Датасет `all_features` содержал все признаки из обоих вышеперечисленных датасетов.   \n",
    "\n",
    "В ходе проверки моделей, были получены следующие результаты:  \n",
    "\n",
    "|             | all_features |text_features| main_features |\n",
    "|-------------|-----------|----------------|---------------|\n",
    "|Ridge        | 1.09      |         1.77   |  1.09         |\n",
    "|ElasticNet   |  1.17     |         1.78   |  1.17         |\n",
    "|Linear Regression | 928614256.9 |  26852088056854.6  |  1.06 |\n",
    "|Random Forest | 1.08    |     1.77        |  1.02        |\n",
    "|CatBoost        |   -     |   -   |  1.05        |\n",
    "\n",
    "\n",
    "Наилучший результат показала модель случайного леса на датасете `main_features`: RMSE = 1.02.   \n",
    "\n",
    "\n",
    "Затем, была произведена интерпретация модели с использованием библиотеки `shap`.  \n",
    "\n",
    "Наиболее информативными оказались признаки (в порядке убывания важности): \n",
    "- `message_length` (\"длина сообщения\"): чем больше длина, тем большее количество багов присутствует\n",
    "- `repository_name` (\"репозиторий коммита\"): наибольшее количество багов содержится в репозитории \"mlm\"\n",
    "- `commit_author` (\"автор коммита\")\n",
    "\n",
    "\n",
    "Также, было выявлено, что слова, которые встречались в тексте коммита никак не коррелировали с количеством багов.  \n",
    "\n",
    "В заключении работы, был написан скрипт для обучения модели случайного леса и расчета прогнозов."
   ]
  }
 ],
 "metadata": {
  "colab": {
   "collapsed_sections": [
    "UZexuuht83Wh",
    "_6xGRaWBds5t",
    "Z-CPxeyX-272"
   ],
   "name": "testovoe_avsoft.ipynb",
   "provenance": []
  },
  "kernelspec": {
   "display_name": "Python 3",
   "language": "python",
   "name": "python3"
  },
  "language_info": {
   "codemirror_mode": {
    "name": "ipython",
    "version": 3
   },
   "file_extension": ".py",
   "mimetype": "text/x-python",
   "name": "python",
   "nbconvert_exporter": "python",
   "pygments_lexer": "ipython3",
   "version": "3.8.8"
  }
 },
 "nbformat": 4,
 "nbformat_minor": 1
}
